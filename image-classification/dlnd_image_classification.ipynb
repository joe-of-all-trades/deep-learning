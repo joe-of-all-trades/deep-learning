{
 "cells": [
  {
   "cell_type": "markdown",
   "metadata": {
    "collapsed": true
   },
   "source": [
    "# Image Classification\n",
    "In this project, you'll classify images from the [CIFAR-10 dataset](https://www.cs.toronto.edu/~kriz/cifar.html).  The dataset consists of airplanes, dogs, cats, and other objects. You'll preprocess the images, then train a convolutional neural network on all the samples. The images need to be normalized and the labels need to be one-hot encoded.  You'll get to apply what you learned and build a convolutional, max pooling, dropout, and fully connected layers.  At the end, you'll get to see your neural network's predictions on the sample images.\n",
    "## Get the Data\n",
    "Run the following cell to download the [CIFAR-10 dataset for python](https://www.cs.toronto.edu/~kriz/cifar-10-python.tar.gz)."
   ]
  },
  {
   "cell_type": "code",
   "execution_count": 1,
   "metadata": {},
   "outputs": [
    {
     "name": "stdout",
     "output_type": "stream",
     "text": [
      "All files found!\n"
     ]
    }
   ],
   "source": [
    "\"\"\"\n",
    "DON'T MODIFY ANYTHING IN THIS CELL THAT IS BELOW THIS LINE\n",
    "\"\"\"\n",
    "from urllib.request import urlretrieve\n",
    "from os.path import isfile, isdir\n",
    "from tqdm import tqdm\n",
    "import problem_unittests as tests\n",
    "import tarfile\n",
    "\n",
    "cifar10_dataset_folder_path = 'cifar-10-batches-py'\n",
    "\n",
    "# Use Floyd's cifar-10 dataset if present\n",
    "floyd_cifar10_location = '/input/cifar-10/python.tar.gz'\n",
    "if isfile(floyd_cifar10_location):\n",
    "    tar_gz_path = floyd_cifar10_location\n",
    "else:\n",
    "    tar_gz_path = 'cifar-10-python.tar.gz'\n",
    "\n",
    "class DLProgress(tqdm):\n",
    "    last_block = 0\n",
    "\n",
    "    def hook(self, block_num=1, block_size=1, total_size=None):\n",
    "        self.total = total_size\n",
    "        self.update((block_num - self.last_block) * block_size)\n",
    "        self.last_block = block_num\n",
    "\n",
    "if not isfile(tar_gz_path):\n",
    "    with DLProgress(unit='B', unit_scale=True, miniters=1, desc='CIFAR-10 Dataset') as pbar:\n",
    "        urlretrieve(\n",
    "            'https://www.cs.toronto.edu/~kriz/cifar-10-python.tar.gz',\n",
    "            tar_gz_path,\n",
    "            pbar.hook)\n",
    "\n",
    "if not isdir(cifar10_dataset_folder_path):\n",
    "    with tarfile.open(tar_gz_path) as tar:\n",
    "        tar.extractall()\n",
    "        tar.close()\n",
    "\n",
    "\n",
    "tests.test_folder_path(cifar10_dataset_folder_path)"
   ]
  },
  {
   "cell_type": "markdown",
   "metadata": {},
   "source": [
    "## Explore the Data\n",
    "The dataset is broken into batches to prevent your machine from running out of memory.  The CIFAR-10 dataset consists of 5 batches, named `data_batch_1`, `data_batch_2`, etc.. Each batch contains the labels and images that are one of the following:\n",
    "* airplane\n",
    "* automobile\n",
    "* bird\n",
    "* cat\n",
    "* deer\n",
    "* dog\n",
    "* frog\n",
    "* horse\n",
    "* ship\n",
    "* truck\n",
    "\n",
    "Understanding a dataset is part of making predictions on the data.  Play around with the code cell below by changing the `batch_id` and `sample_id`. The `batch_id` is the id for a batch (1-5). The `sample_id` is the id for a image and label pair in the batch.\n",
    "\n",
    "Ask yourself \"What are all possible labels?\", \"What is the range of values for the image data?\", \"Are the labels in order or random?\".  Answers to questions like these will help you preprocess the data and end up with better predictions."
   ]
  },
  {
   "cell_type": "code",
   "execution_count": 2,
   "metadata": {},
   "outputs": [
    {
     "name": "stdout",
     "output_type": "stream",
     "text": [
      "\n",
      "Stats of batch 1:\n",
      "Samples: 10000\n",
      "Label Counts: {0: 1005, 1: 974, 2: 1032, 3: 1016, 4: 999, 5: 937, 6: 1030, 7: 1001, 8: 1025, 9: 981}\n",
      "First 20 Labels: [6, 9, 9, 4, 1, 1, 2, 7, 8, 3, 4, 7, 7, 2, 9, 9, 9, 3, 2, 6]\n",
      "\n",
      "Example of Image 6:\n",
      "Image - Min Value: 7 Max Value: 249\n",
      "Image - Shape: (32, 32, 3)\n",
      "Label - Label Id: 2 Name: bird\n"
     ]
    },
    {
     "data": {
      "image/png": "[encoded data removed]",
      "text/plain": [
       "<matplotlib.figure.Figure at 0x24419e984a8>"
      ]
     },
     "metadata": {
      "image/png": {
       "height": 250,
       "width": 253
      }
     },
     "output_type": "display_data"
    }
   ],
   "source": [
    "%matplotlib inline\n",
    "%config InlineBackend.figure_format = 'retina'\n",
    "\n",
    "import helper\n",
    "import numpy as np\n",
    "\n",
    "# Explore the dataset\n",
    "batch_id = 1\n",
    "sample_id = 6\n",
    "helper.display_stats(cifar10_dataset_folder_path, batch_id, sample_id)"
   ]
  },
  {
   "cell_type": "markdown",
   "metadata": {},
   "source": [
    "## Implement Preprocess Functions\n",
    "### Normalize\n",
    "In the cell below, implement the `normalize` function to take in image data, `x`, and return it as a normalized Numpy array. The values should be in the range of 0 to 1, inclusive.  The return object should be the same shape as `x`."
   ]
  },
  {
   "cell_type": "code",
   "execution_count": 3,
   "metadata": {},
   "outputs": [
    {
     "name": "stdout",
     "output_type": "stream",
     "text": [
      "Tests Passed\n"
     ]
    }
   ],
   "source": [
    "def normalize(x):\n",
    "    \"\"\"\n",
    "    Normalize a list of sample image data in the range of 0 to 1\n",
    "    : x: List of image data.  The image shape is (32, 32, 3)\n",
    "    : return: Numpy array of normalize data\n",
    "    \"\"\"\n",
    "    # TODO: Implement Function\n",
    "    return ( x - x.min() ) / ( x.max() - x.min() )\n",
    "\n",
    "\"\"\"\n",
    "DON'T MODIFY ANYTHING IN THIS CELL THAT IS BELOW THIS LINE\n",
    "\"\"\"\n",
    "tests.test_normalize(normalize)"
   ]
  },
  {
   "cell_type": "markdown",
   "metadata": {},
   "source": [
    "### One-hot encode\n",
    "Just like the previous code cell, you'll be implementing a function for preprocessing.  This time, you'll implement the `one_hot_encode` function. The input, `x`, are a list of labels.  Implement the function to return the list of labels as One-Hot encoded Numpy array.  The possible values for labels are 0 to 9. The one-hot encoding function should return the same encoding for each value between each call to `one_hot_encode`.  Make sure to save the map of encodings outside the function.\n",
    "\n",
    "Hint: Don't reinvent the wheel."
   ]
  },
  {
   "cell_type": "code",
   "execution_count": 4,
   "metadata": {},
   "outputs": [
    {
     "name": "stdout",
     "output_type": "stream",
     "text": [
      "Tests Passed\n"
     ]
    }
   ],
   "source": [
    "def one_hot_encode(x):\n",
    "    \"\"\"\n",
    "    One hot encode a list of sample labels. Return a one-hot encoded vector for each label.\n",
    "    : x: List of sample Labels\n",
    "    : return: Numpy array of one-hot encoded labels\n",
    "    \"\"\"\n",
    "    # TODO: Implement Function\n",
    "    output = np.zeros([len(x), 10])\n",
    "    \n",
    "    for idx, item in enumerate(x):\n",
    "        output[idx, item] = 1\n",
    "        \n",
    "    return output\n",
    "    #tensorflow already has a built-in function:\n",
    "    #return tf.one_hot_encode(x)\n",
    "\n",
    "\"\"\"\n",
    "DON'T MODIFY ANYTHING IN THIS CELL THAT IS BELOW THIS LINE\n",
    "\"\"\"\n",
    "tests.test_one_hot_encode(one_hot_encode)"
   ]
  },
  {
   "cell_type": "markdown",
   "metadata": {},
   "source": [
    "### Randomize Data\n",
    "As you saw from exploring the data above, the order of the samples are randomized.  It doesn't hurt to randomize it again, but you don't need to for this dataset."
   ]
  },
  {
   "cell_type": "markdown",
   "metadata": {},
   "source": [
    "## Preprocess all the data and save it\n",
    "Running the code cell below will preprocess all the CIFAR-10 data and save it to file. The code below also uses 10% of the training data for validation."
   ]
  },
  {
   "cell_type": "code",
   "execution_count": 5,
   "metadata": {
    "collapsed": true
   },
   "outputs": [],
   "source": [
    "\"\"\"\n",
    "DON'T MODIFY ANYTHING IN THIS CELL\n",
    "\"\"\"\n",
    "# Preprocess Training, Validation, and Testing Data\n",
    "helper.preprocess_and_save_data(cifar10_dataset_folder_path, normalize, one_hot_encode)"
   ]
  },
  {
   "cell_type": "markdown",
   "metadata": {},
   "source": [
    "# Check Point\n",
    "This is your first checkpoint.  If you ever decide to come back to this notebook or have to restart the notebook, you can start from here.  The preprocessed data has been saved to disk."
   ]
  },
  {
   "cell_type": "code",
   "execution_count": 6,
   "metadata": {
    "collapsed": true
   },
   "outputs": [],
   "source": [
    "\"\"\"\n",
    "DON'T MODIFY ANYTHING IN THIS CELL\n",
    "\"\"\"\n",
    "import pickle\n",
    "import problem_unittests as tests\n",
    "import helper\n",
    "\n",
    "# Load the Preprocessed Validation data\n",
    "valid_features, valid_labels = pickle.load(open('preprocess_validation.p', mode='rb'))"
   ]
  },
  {
   "cell_type": "markdown",
   "metadata": {},
   "source": [
    "## Build the network\n",
    "For the neural network, you'll build each layer into a function.  Most of the code you've seen has been outside of functions. To test your code more thoroughly, we require that you put each layer in a function.  This allows us to give you better feedback and test for simple mistakes using our unittests before you submit your project.\n",
    "\n",
    ">**Note:** If you're finding it hard to dedicate enough time for this course each week, we've provided a small shortcut to this part of the project. In the next couple of problems, you'll have the option to use classes from the [TensorFlow Layers](https://www.tensorflow.org/api_docs/python/tf/layers) or [TensorFlow Layers (contrib)](https://www.tensorflow.org/api_guides/python/contrib.layers) packages to build each layer, except the layers you build in the \"Convolutional and Max Pooling Layer\" section.  TF Layers is similar to Keras's and TFLearn's abstraction to layers, so it's easy to pickup.\n",
    "\n",
    ">However, if you would like to get the most out of this course, try to solve all the problems _without_ using anything from the TF Layers packages. You **can** still use classes from other packages that happen to have the same name as ones you find in TF Layers! For example, instead of using the TF Layers version of the `conv2d` class, [tf.layers.conv2d](https://www.tensorflow.org/api_docs/python/tf/layers/conv2d), you would want to use the TF Neural Network version of `conv2d`, [tf.nn.conv2d](https://www.tensorflow.org/api_docs/python/tf/nn/conv2d). \n",
    "\n",
    "Let's begin!\n",
    "\n",
    "### Input\n",
    "The neural network needs to read the image data, one-hot encoded labels, and dropout keep probability. Implement the following functions\n",
    "* Implement `neural_net_image_input`\n",
    " * Return a [TF Placeholder](https://www.tensorflow.org/api_docs/python/tf/placeholder)\n",
    " * Set the shape using `image_shape` with batch size set to `None`.\n",
    " * Name the TensorFlow placeholder \"x\" using the TensorFlow `name` parameter in the [TF Placeholder](https://www.tensorflow.org/api_docs/python/tf/placeholder).\n",
    "* Implement `neural_net_label_input`\n",
    " * Return a [TF Placeholder](https://www.tensorflow.org/api_docs/python/tf/placeholder)\n",
    " * Set the shape using `n_classes` with batch size set to `None`.\n",
    " * Name the TensorFlow placeholder \"y\" using the TensorFlow `name` parameter in the [TF Placeholder](https://www.tensorflow.org/api_docs/python/tf/placeholder).\n",
    "* Implement `neural_net_keep_prob_input`\n",
    " * Return a [TF Placeholder](https://www.tensorflow.org/api_docs/python/tf/placeholder) for dropout keep probability.\n",
    " * Name the TensorFlow placeholder \"keep_prob\" using the TensorFlow `name` parameter in the [TF Placeholder](https://www.tensorflow.org/api_docs/python/tf/placeholder).\n",
    "\n",
    "These names will be used at the end of the project to load your saved model.\n",
    "\n",
    "Note: `None` for shapes in TensorFlow allow for a dynamic size."
   ]
  },
  {
   "cell_type": "code",
   "execution_count": 7,
   "metadata": {},
   "outputs": [
    {
     "name": "stdout",
     "output_type": "stream",
     "text": [
      "Image Input Tests Passed.\n",
      "Label Input Tests Passed.\n",
      "Keep Prob Tests Passed.\n"
     ]
    }
   ],
   "source": [
    "import tensorflow as tf\n",
    "\n",
    "def neural_net_image_input(image_shape):\n",
    "    \"\"\"\n",
    "    Return a Tensor for a batch of image input\n",
    "    : image_shape: Shape of the images\n",
    "    : return: Tensor for image input.\n",
    "    \"\"\"\n",
    "    # TODO: Implement Function\n",
    "    # usage : tf.placeholder(dtype, shape=None, name=None)\n",
    "    return tf.placeholder(tf.float32, [None, image_shape[0], image_shape[1], image_shape[2]], \"x\")\n",
    "\n",
    "\n",
    "def neural_net_label_input(n_classes):\n",
    "    \"\"\"\n",
    "    Return a Tensor for a batch of label input\n",
    "    : n_classes: Number of classes\n",
    "    : return: Tensor for label input.\n",
    "    \"\"\"\n",
    "    # TODO: Implement Function\n",
    "    return tf.placeholder(tf.float32, [None, n_classes], \"y\")\n",
    "\n",
    "\n",
    "def neural_net_keep_prob_input():\n",
    "    \"\"\"\n",
    "    Return a Tensor for keep probability\n",
    "    : return: Tensor for keep probability.\n",
    "    \"\"\"\n",
    "    # TODO: Implement Function\n",
    "    return tf.placeholder(tf.float32, None, \"keep_prob\")\n",
    "\n",
    "\n",
    "\"\"\"\n",
    "DON'T MODIFY ANYTHING IN THIS CELL THAT IS BELOW THIS LINE\n",
    "\"\"\"\n",
    "tf.reset_default_graph()\n",
    "tests.test_nn_image_inputs(neural_net_image_input)\n",
    "tests.test_nn_label_inputs(neural_net_label_input)\n",
    "tests.test_nn_keep_prob_inputs(neural_net_keep_prob_input)"
   ]
  },
  {
   "cell_type": "markdown",
   "metadata": {},
   "source": [
    "### Convolution and Max Pooling Layer\n",
    "Convolution layers have a lot of success with images. For this code cell, you should implement the function `conv2d_maxpool` to apply convolution then max pooling:\n",
    "* Create the weight and bias using `conv_ksize`, `conv_num_outputs` and the shape of `x_tensor`.\n",
    "* Apply a convolution to `x_tensor` using weight and `conv_strides`.\n",
    " * We recommend you use same padding, but you're welcome to use any padding.\n",
    "* Add bias\n",
    "* Add a nonlinear activation to the convolution.\n",
    "* Apply Max Pooling using `pool_ksize` and `pool_strides`.\n",
    " * We recommend you use same padding, but you're welcome to use any padding.\n",
    "\n",
    "**Note:** You **can't** use [TensorFlow Layers](https://www.tensorflow.org/api_docs/python/tf/layers) or [TensorFlow Layers (contrib)](https://www.tensorflow.org/api_guides/python/contrib.layers) for **this** layer, but you can still use TensorFlow's [Neural Network](https://www.tensorflow.org/api_docs/python/tf/nn) package. You may still use the shortcut option for all the **other** layers."
   ]
  },
  {
   "cell_type": "code",
   "execution_count": 8,
   "metadata": {},
   "outputs": [
    {
     "name": "stdout",
     "output_type": "stream",
     "text": [
      "Tests Passed\n"
     ]
    }
   ],
   "source": [
    "def conv2d_maxpool(x_tensor, conv_num_outputs, conv_ksize, conv_strides, pool_ksize, pool_strides):\n",
    "    \"\"\"\n",
    "    Apply convolution then max pooling to x_tensor\n",
    "    :param x_tensor: TensorFlow Tensor\n",
    "    :param conv_num_outputs: Number of outputs for the convolutional layer\n",
    "    :param conv_ksize: kernal size 2-D Tuple for the convolutional layer\n",
    "    :param conv_strides: Stride 2-D Tuple for convolution\n",
    "    :param pool_ksize: kernal size 2-D Tuple for pool\n",
    "    :param pool_strides: Stride 2-D Tuple for pool\n",
    "    : return: A tensor that represents convolution and max pooling of x_tensor\n",
    "    \"\"\"\n",
    "    # TODO: Implement Function\n",
    "    wc1 = tf.Variable(tf.truncated_normal( [ conv_ksize[0], conv_ksize[1], x_tensor.shape[3].value, conv_num_outputs ],\n",
    "                                      mean=0.0, stddev=0.1, dtype=tf.float32))\n",
    "    bc1 = tf.Variable(tf.truncated_normal([conv_num_outputs],\n",
    "                                      mean=0.0, stddev=0.1, dtype=tf.float32))\n",
    "    \n",
    "    x_out = tf.nn.conv2d(x_tensor, wc1, strides=[1, conv_strides[0], conv_strides[1], 1], padding='SAME')\n",
    "    x_out = tf.nn.bias_add(x_out, bc1)\n",
    "    x_out = tf.nn.relu(x_out)\n",
    "    x_out = tf.nn.max_pool(x_out, ksize=[1, pool_ksize[0], pool_ksize[1], 1], \n",
    "                           strides=[1, pool_strides[0], pool_strides[1], 1], padding='SAME')\n",
    "    return tf.nn.relu(x_out) \n",
    "\n",
    "\n",
    "\"\"\"\n",
    "DON'T MODIFY ANYTHING IN THIS CELL THAT IS BELOW THIS LINE\n",
    "\"\"\"\n",
    "tests.test_con_pool(conv2d_maxpool)"
   ]
  },
  {
   "cell_type": "markdown",
   "metadata": {},
   "source": [
    "### Flatten Layer\n",
    "Implement the `flatten` function to change the dimension of `x_tensor` from a 4-D tensor to a 2-D tensor.  The output should be the shape (*Batch Size*, *Flattened Image Size*). Shortcut option: you can use classes from the [TensorFlow Layers](https://www.tensorflow.org/api_docs/python/tf/layers) or [TensorFlow Layers (contrib)](https://www.tensorflow.org/api_guides/python/contrib.layers) packages for this layer. For more of a challenge, only use other TensorFlow packages."
   ]
  },
  {
   "cell_type": "code",
   "execution_count": 9,
   "metadata": {},
   "outputs": [
    {
     "name": "stdout",
     "output_type": "stream",
     "text": [
      "Tests Passed\n"
     ]
    }
   ],
   "source": [
    "def flatten(x_tensor):\n",
    "    \"\"\"\n",
    "    Flatten x_tensor to (Batch Size, Flattened Image Size)\n",
    "    : x_tensor: A tensor of size (Batch Size, ...), where ... are the image dimensions.\n",
    "    : return: A tensor of size (Batch Size, Flattened Image Size).\n",
    "    \"\"\"\n",
    "    # TODO: Implement Function\n",
    "    # reference : https://github.com/tensorflow/tensorflow/issues/7253\n",
    "    \n",
    "    return tf.reshape(x_tensor, [tf.shape(x_tensor)[0], np.prod(x_tensor.shape[1:]).value])\n",
    "    \n",
    "    # This also works\n",
    "    #return tf.reshape(x_tensor, [-1, np.prod(x_tensor.shape[1:]).value])\n",
    "\n",
    "\"\"\"\n",
    "DON'T MODIFY ANYTHING IN THIS CELL THAT IS BELOW THIS LINE\n",
    "\"\"\"\n",
    "tests.test_flatten(flatten)"
   ]
  },
  {
   "cell_type": "markdown",
   "metadata": {},
   "source": [
    "### Fully-Connected Layer\n",
    "Implement the `fully_conn` function to apply a fully connected layer to `x_tensor` with the shape (*Batch Size*, *num_outputs*). Shortcut option: you can use classes from the [TensorFlow Layers](https://www.tensorflow.org/api_docs/python/tf/layers) or [TensorFlow Layers (contrib)](https://www.tensorflow.org/api_guides/python/contrib.layers) packages for this layer. For more of a challenge, only use other TensorFlow packages."
   ]
  },
  {
   "cell_type": "code",
   "execution_count": 10,
   "metadata": {},
   "outputs": [
    {
     "name": "stdout",
     "output_type": "stream",
     "text": [
      "Tests Passed\n"
     ]
    }
   ],
   "source": [
    "def fully_conn(x_tensor, num_outputs):\n",
    "    \"\"\"\n",
    "    Apply a fully connected layer to x_tensor using weight and bias\n",
    "    : x_tensor: A 2-D tensor where the first dimension is batch size.\n",
    "    : num_outputs: The number of output that the new tensor should be.\n",
    "    : return: A 2-D tensor where the second dimension is num_outputs.\n",
    "    \"\"\"\n",
    "    # TODO: Implement Function\n",
    "    fc = tf.reshape(x_tensor, [-1, np.prod(x_tensor.shape[1:]).value])\n",
    "    w = tf.Variable(tf.truncated_normal([np.prod(x_tensor.shape[1:]).value, num_outputs], mean=0.0, stddev=0.1, dtype=tf.float32))\n",
    "    b = tf.Variable(tf.truncated_normal([num_outputs],mean=0.0, stddev=0.1, dtype=tf.float32))\n",
    "    return tf.nn.relu(tf.add(tf.matmul(fc, w), b))\n",
    "\n",
    "\n",
    "\"\"\"\n",
    "DON'T MODIFY ANYTHING IN THIS CELL THAT IS BELOW THIS LINE\n",
    "\"\"\"\n",
    "tests.test_fully_conn(fully_conn)"
   ]
  },
  {
   "cell_type": "markdown",
   "metadata": {},
   "source": [
    "### Output Layer\n",
    "Implement the `output` function to apply a fully connected layer to `x_tensor` with the shape (*Batch Size*, *num_outputs*). Shortcut option: you can use classes from the [TensorFlow Layers](https://www.tensorflow.org/api_docs/python/tf/layers) or [TensorFlow Layers (contrib)](https://www.tensorflow.org/api_guides/python/contrib.layers) packages for this layer. For more of a challenge, only use other TensorFlow packages.\n",
    "\n",
    "**Note:** Activation, softmax, or cross entropy should **not** be applied to this."
   ]
  },
  {
   "cell_type": "code",
   "execution_count": 11,
   "metadata": {},
   "outputs": [
    {
     "name": "stdout",
     "output_type": "stream",
     "text": [
      "Tests Passed\n"
     ]
    }
   ],
   "source": [
    "def output(x_tensor, num_outputs):\n",
    "    \"\"\"\n",
    "    Apply a output layer to x_tensor using weight and bias\n",
    "    : x_tensor: A 2-D tensor where the first dimension is batch size.\n",
    "    : num_outputs: The number of output that the new tensor should be.\n",
    "    : return: A 2-D tensor where the second dimension is num_outputs.\n",
    "    \"\"\"\n",
    "    # TODO: Implement Function\n",
    "    w = tf.Variable(tf.random_normal([x_tensor.shape[1].value, num_outputs]))\n",
    "    b = tf.Variable(tf.random_normal([num_outputs]))\n",
    "    return tf.add(tf.matmul(x_tensor, w), b)\n",
    "\n",
    "\n",
    "\"\"\"\n",
    "DON'T MODIFY ANYTHING IN THIS CELL THAT IS BELOW THIS LINE\n",
    "\"\"\"\n",
    "tests.test_output(output)"
   ]
  },
  {
   "cell_type": "markdown",
   "metadata": {},
   "source": [
    "### Create Convolutional Model\n",
    "Implement the function `conv_net` to create a convolutional neural network model. The function takes in a batch of images, `x`, and outputs logits.  Use the layers you created above to create this model:\n",
    "\n",
    "* Apply 1, 2, or 3 Convolution and Max Pool layers\n",
    "* Apply a Flatten Layer\n",
    "* Apply 1, 2, or 3 Fully Connected Layers\n",
    "* Apply an Output Layer\n",
    "* Return the output\n",
    "* Apply [TensorFlow's Dropout](https://www.tensorflow.org/api_docs/python/tf/nn/dropout) to one or more layers in the model using `keep_prob`. "
   ]
  },
  {
   "cell_type": "code",
   "execution_count": 12,
   "metadata": {},
   "outputs": [
    {
     "name": "stdout",
     "output_type": "stream",
     "text": [
      "Neural Network Built!\n"
     ]
    }
   ],
   "source": [
    "def conv_net(x, keep_prob):\n",
    "    \"\"\"\n",
    "    Create a convolutional neural network model\n",
    "    : x: Placeholder tensor that holds image data.\n",
    "    : keep_prob: Placeholder tensor that hold dropout keep probability.\n",
    "    : return: Tensor that represents logits\n",
    "    \"\"\"\n",
    "    \n",
    "    # TODO: Apply 1, 2, or 3 Convolution and Max Pool layers\n",
    "    #    Play around with different number of outputs, kernel size and stride\n",
    "    # Function Definition from Above:\n",
    "    #    conv2d_maxpool(x_tensor, conv_num_outputs, conv_ksize, conv_strides, pool_ksize, pool_strides)\n",
    "    conv1 = conv2d_maxpool(x, 10, (3, 3), (1, 1), (2, 2), (2, 2))\n",
    "    conv2 = conv2d_maxpool(conv1, 20, (5, 5), (1, 1), (2, 2), (2, 2))\n",
    "    conv3 = conv2d_maxpool(conv2, 30, (7, 7), (1, 1), (2, 2), (2, 2))\n",
    "    # adding dropout to convolution layer makes learning very slow\n",
    "    \n",
    "    # TODO: Apply a Flatten Layer\n",
    "    # Function Definition from Above:\n",
    "    #   flatten(x_tensor)\n",
    "    f = flatten(conv3)\n",
    "\n",
    "    # TODO: Apply 1, 2, or 3 Fully Connected Layers\n",
    "    #    Play around with different number of outputs\n",
    "    # Function Definition from Above:\n",
    "    #   fully_conn(x_tensor, num_outputs)\n",
    "    fc1 = fully_conn(f, 100)\n",
    "    fc1 = tf.nn.dropout(fc1, keep_prob)\n",
    "    fc2 = fully_conn(fc1, 50)\n",
    "    fc2 = tf.nn.dropout(fc2, keep_prob)\n",
    "    fc3 = fully_conn(fc2, 20)\n",
    "    \n",
    "\n",
    "    \n",
    "    # TODO: Apply an Output Layer\n",
    "    #    Set this to the number of classes\n",
    "    # Function Definition from Above:\n",
    "    #   output(x_tensor, num_outputs)\n",
    "    o = output(fc2, 10)\n",
    "    \n",
    "    # TODO: return output\n",
    "    return o\n",
    "\n",
    "\n",
    "\"\"\"\n",
    "DON'T MODIFY ANYTHING IN THIS CELL THAT IS BELOW THIS LINE\n",
    "\"\"\"\n",
    "\n",
    "##############################\n",
    "## Build the Neural Network ##\n",
    "##############################\n",
    "\n",
    "# Remove previous weights, bias, inputs, etc..\n",
    "tf.reset_default_graph()\n",
    "\n",
    "# Inputs\n",
    "x = neural_net_image_input((32, 32, 3))\n",
    "y = neural_net_label_input(10)\n",
    "keep_prob = neural_net_keep_prob_input()\n",
    "\n",
    "# Model\n",
    "logits = conv_net(x, keep_prob)\n",
    "\n",
    "# Name logits Tensor, so that is can be loaded from disk after training\n",
    "logits = tf.identity(logits, name='logits')\n",
    "\n",
    "# Loss and Optimizer\n",
    "cost = tf.reduce_mean(tf.nn.softmax_cross_entropy_with_logits(logits=logits, labels=y))\n",
    "optimizer = tf.train.AdamOptimizer().minimize(cost)\n",
    "\n",
    "# Accuracy\n",
    "correct_pred = tf.equal(tf.argmax(logits, 1), tf.argmax(y, 1))\n",
    "accuracy = tf.reduce_mean(tf.cast(correct_pred, tf.float32), name='accuracy')\n",
    "\n",
    "tests.test_conv_net(conv_net)"
   ]
  },
  {
   "cell_type": "markdown",
   "metadata": {},
   "source": [
    "## Train the Neural Network\n",
    "### Single Optimization\n",
    "Implement the function `train_neural_network` to do a single optimization.  The optimization should use `optimizer` to optimize in `session` with a `feed_dict` of the following:\n",
    "* `x` for image input\n",
    "* `y` for labels\n",
    "* `keep_prob` for keep probability for dropout\n",
    "\n",
    "This function will be called for each batch, so `tf.global_variables_initializer()` has already been called.\n",
    "\n",
    "Note: Nothing needs to be returned. This function is only optimizing the neural network."
   ]
  },
  {
   "cell_type": "code",
   "execution_count": 13,
   "metadata": {},
   "outputs": [
    {
     "name": "stdout",
     "output_type": "stream",
     "text": [
      "Tests Passed\n"
     ]
    }
   ],
   "source": [
    "def train_neural_network(session, optimizer, keep_probability, feature_batch, label_batch):\n",
    "    \"\"\"\n",
    "    Optimize the session on a batch of images and labels\n",
    "    : session: Current TensorFlow session\n",
    "    : optimizer: TensorFlow optimizer function\n",
    "    : keep_probability: keep probability\n",
    "    : feature_batch: Batch of Numpy image data\n",
    "    : label_batch: Batch of Numpy label data\n",
    "    \"\"\"\n",
    "    # TODO: Implement Function\n",
    "    session.run(optimizer, feed_dict={\n",
    "                x: feature_batch,\n",
    "                y: label_batch,\n",
    "                keep_prob: keep_probability})\n",
    "\n",
    "\n",
    "\"\"\"\n",
    "DON'T MODIFY ANYTHING IN THIS CELL THAT IS BELOW THIS LINE\n",
    "\"\"\"\n",
    "tests.test_train_nn(train_neural_network)"
   ]
  },
  {
   "cell_type": "markdown",
   "metadata": {},
   "source": [
    "### Show Stats\n",
    "Implement the function `print_stats` to print loss and validation accuracy.  Use the global variables `valid_features` and `valid_labels` to calculate validation accuracy.  Use a keep probability of `1.0` to calculate the loss and validation accuracy."
   ]
  },
  {
   "cell_type": "code",
   "execution_count": 14,
   "metadata": {
    "collapsed": true
   },
   "outputs": [],
   "source": [
    "def print_stats(session, feature_batch, label_batch, cost, accuracy):\n",
    "    \"\"\"\n",
    "    Print information about loss and validation accuracy\n",
    "    : session: Current TensorFlow session\n",
    "    : feature_batch: Batch of Numpy image data\n",
    "    : label_batch: Batch of Numpy label data\n",
    "    : cost: TensorFlow cost function\n",
    "    : accuracy: TensorFlow accuracy function\n",
    "    \"\"\"\n",
    "    # TODO: Implement Function\n",
    "    loss = session.run(cost, feed_dict={\n",
    "                x: feature_batch,\n",
    "                y: label_batch,\n",
    "                keep_prob: 1.})\n",
    "    valid_acc = session.run(accuracy, feed_dict={\n",
    "                x: valid_features,\n",
    "                y: valid_labels,\n",
    "                keep_prob: 1.})\n",
    "\n",
    "    print('Loss: {:>10.4f} Validation Accuracy: {:.6f}'.format(loss, valid_acc))"
   ]
  },
  {
   "cell_type": "markdown",
   "metadata": {},
   "source": [
    "### Hyperparameters\n",
    "Tune the following parameters:\n",
    "* Set `epochs` to the number of iterations until the network stops learning or start overfitting\n",
    "* Set `batch_size` to the highest number that your machine has memory for.  Most people set them to common sizes of memory:\n",
    " * 64\n",
    " * 128\n",
    " * 256\n",
    " * ...\n",
    "* Set `keep_probability` to the probability of keeping a node using dropout"
   ]
  },
  {
   "cell_type": "code",
   "execution_count": 18,
   "metadata": {
    "collapsed": true
   },
   "outputs": [],
   "source": [
    "# TODO: Tune Parameters\n",
    "epochs = 30\n",
    "batch_size = 128\n",
    "# smaller keep_probability makes learning slower\n",
    "keep_probability = 0.5"
   ]
  },
  {
   "cell_type": "markdown",
   "metadata": {},
   "source": [
    "### Train on a Single CIFAR-10 Batch\n",
    "Instead of training the neural network on all the CIFAR-10 batches of data, let's use a single batch. This should save time while you iterate on the model to get a better accuracy.  Once the final validation accuracy is 50% or greater, run the model on all the data in the next section."
   ]
  },
  {
   "cell_type": "code",
   "execution_count": 19,
   "metadata": {},
   "outputs": [
    {
     "name": "stdout",
     "output_type": "stream",
     "text": [
      "Checking the Training on a Single Batch...\n",
      "Epoch  1, CIFAR-10 Batch 1:  Loss:     2.3575 Validation Accuracy: 0.112800\n",
      "Epoch  2, CIFAR-10 Batch 1:  Loss:     2.1429 Validation Accuracy: 0.212200\n",
      "Epoch  3, CIFAR-10 Batch 1:  Loss:     2.0185 Validation Accuracy: 0.270800\n",
      "Epoch  4, CIFAR-10 Batch 1:  Loss:     1.9493 Validation Accuracy: 0.340200\n",
      "Epoch  5, CIFAR-10 Batch 1:  Loss:     1.8327 Validation Accuracy: 0.379200\n",
      "Epoch  6, CIFAR-10 Batch 1:  Loss:     1.7703 Validation Accuracy: 0.378400\n",
      "Epoch  7, CIFAR-10 Batch 1:  Loss:     1.6323 Validation Accuracy: 0.429400\n",
      "Epoch  8, CIFAR-10 Batch 1:  Loss:     1.5175 Validation Accuracy: 0.448400\n",
      "Epoch  9, CIFAR-10 Batch 1:  Loss:     1.4428 Validation Accuracy: 0.438600\n",
      "Epoch 10, CIFAR-10 Batch 1:  Loss:     1.3611 Validation Accuracy: 0.474600\n",
      "Epoch 11, CIFAR-10 Batch 1:  Loss:     1.3007 Validation Accuracy: 0.476400\n",
      "Epoch 12, CIFAR-10 Batch 1:  Loss:     1.2681 Validation Accuracy: 0.502600\n",
      "Epoch 13, CIFAR-10 Batch 1:  Loss:     1.2354 Validation Accuracy: 0.489600\n",
      "Epoch 14, CIFAR-10 Batch 1:  Loss:     1.1183 Validation Accuracy: 0.511800\n",
      "Epoch 15, CIFAR-10 Batch 1:  Loss:     1.0459 Validation Accuracy: 0.521000\n",
      "Epoch 16, CIFAR-10 Batch 1:  Loss:     0.9867 Validation Accuracy: 0.519800\n",
      "Epoch 17, CIFAR-10 Batch 1:  Loss:     0.9733 Validation Accuracy: 0.527600\n",
      "Epoch 18, CIFAR-10 Batch 1:  Loss:     0.8693 Validation Accuracy: 0.538600\n",
      "Epoch 19, CIFAR-10 Batch 1:  Loss:     0.8255 Validation Accuracy: 0.532800\n",
      "Epoch 20, CIFAR-10 Batch 1:  Loss:     0.7804 Validation Accuracy: 0.529200\n",
      "Epoch 21, CIFAR-10 Batch 1:  Loss:     0.7174 Validation Accuracy: 0.539600\n",
      "Epoch 22, CIFAR-10 Batch 1:  Loss:     0.7748 Validation Accuracy: 0.525800\n",
      "Epoch 23, CIFAR-10 Batch 1:  Loss:     0.6747 Validation Accuracy: 0.527000\n",
      "Epoch 24, CIFAR-10 Batch 1:  Loss:     0.6261 Validation Accuracy: 0.530200\n",
      "Epoch 25, CIFAR-10 Batch 1:  Loss:     0.6058 Validation Accuracy: 0.528000\n",
      "Epoch 26, CIFAR-10 Batch 1:  Loss:     0.6296 Validation Accuracy: 0.537000\n",
      "Epoch 27, CIFAR-10 Batch 1:  Loss:     0.5231 Validation Accuracy: 0.539800\n",
      "Epoch 28, CIFAR-10 Batch 1:  Loss:     0.5663 Validation Accuracy: 0.540200\n",
      "Epoch 29, CIFAR-10 Batch 1:  Loss:     0.4823 Validation Accuracy: 0.528000\n",
      "Epoch 30, CIFAR-10 Batch 1:  Loss:     0.5294 Validation Accuracy: 0.517800\n"
     ]
    }
   ],
   "source": [
    "\"\"\"\n",
    "DON'T MODIFY ANYTHING IN THIS CELL\n",
    "\"\"\"\n",
    "print('Checking the Training on a Single Batch...')\n",
    "with tf.Session() as sess:\n",
    "    # Initializing the variables\n",
    "    sess.run(tf.global_variables_initializer())\n",
    "    \n",
    "    # Training cycle\n",
    "    for epoch in range(epochs):\n",
    "        batch_i = 1\n",
    "        for batch_features, batch_labels in helper.load_preprocess_training_batch(batch_i, batch_size):\n",
    "            train_neural_network(sess, optimizer, keep_probability, batch_features, batch_labels)\n",
    "        print('Epoch {:>2}, CIFAR-10 Batch {}:  '.format(epoch + 1, batch_i), end='')\n",
    "        print_stats(sess, batch_features, batch_labels, cost, accuracy)"
   ]
  },
  {
   "cell_type": "markdown",
   "metadata": {},
   "source": [
    "### Fully Train the Model\n",
    "Now that you got a good accuracy with a single CIFAR-10 batch, try it with all five batches."
   ]
  },
  {
   "cell_type": "code",
   "execution_count": 20,
   "metadata": {},
   "outputs": [
    {
     "name": "stdout",
     "output_type": "stream",
     "text": [
      "Training...\n",
      "Epoch  1, CIFAR-10 Batch 1:  Loss:     2.3218 Validation Accuracy: 0.147600\n",
      "Epoch  1, CIFAR-10 Batch 2:  Loss:     2.2495 Validation Accuracy: 0.216200\n",
      "Epoch  1, CIFAR-10 Batch 3:  Loss:     1.8088 Validation Accuracy: 0.272600\n",
      "Epoch  1, CIFAR-10 Batch 4:  Loss:     1.8687 Validation Accuracy: 0.341200\n",
      "Epoch  1, CIFAR-10 Batch 5:  Loss:     1.7474 Validation Accuracy: 0.379200\n",
      "Epoch  2, CIFAR-10 Batch 1:  Loss:     1.8686 Validation Accuracy: 0.407600\n",
      "Epoch  2, CIFAR-10 Batch 2:  Loss:     1.8033 Validation Accuracy: 0.400200\n",
      "Epoch  2, CIFAR-10 Batch 3:  Loss:     1.4565 Validation Accuracy: 0.414400\n",
      "Epoch  2, CIFAR-10 Batch 4:  Loss:     1.5703 Validation Accuracy: 0.426200\n",
      "Epoch  2, CIFAR-10 Batch 5:  Loss:     1.5334 Validation Accuracy: 0.449400\n",
      "Epoch  3, CIFAR-10 Batch 1:  Loss:     1.7031 Validation Accuracy: 0.438200\n",
      "Epoch  3, CIFAR-10 Batch 2:  Loss:     1.4754 Validation Accuracy: 0.464200\n",
      "Epoch  3, CIFAR-10 Batch 3:  Loss:     1.3141 Validation Accuracy: 0.459000\n",
      "Epoch  3, CIFAR-10 Batch 4:  Loss:     1.4626 Validation Accuracy: 0.485200\n",
      "Epoch  3, CIFAR-10 Batch 5:  Loss:     1.5019 Validation Accuracy: 0.489000\n",
      "Epoch  4, CIFAR-10 Batch 1:  Loss:     1.5336 Validation Accuracy: 0.512600\n",
      "Epoch  4, CIFAR-10 Batch 2:  Loss:     1.3598 Validation Accuracy: 0.502000\n",
      "Epoch  4, CIFAR-10 Batch 3:  Loss:     1.1132 Validation Accuracy: 0.514000\n",
      "Epoch  4, CIFAR-10 Batch 4:  Loss:     1.3389 Validation Accuracy: 0.517000\n",
      "Epoch  4, CIFAR-10 Batch 5:  Loss:     1.3236 Validation Accuracy: 0.509800\n",
      "Epoch  5, CIFAR-10 Batch 1:  Loss:     1.4042 Validation Accuracy: 0.533200\n",
      "Epoch  5, CIFAR-10 Batch 2:  Loss:     1.2469 Validation Accuracy: 0.543000\n",
      "Epoch  5, CIFAR-10 Batch 3:  Loss:     0.9381 Validation Accuracy: 0.545200\n",
      "Epoch  5, CIFAR-10 Batch 4:  Loss:     1.2281 Validation Accuracy: 0.540200\n",
      "Epoch  5, CIFAR-10 Batch 5:  Loss:     1.2386 Validation Accuracy: 0.551200\n",
      "Epoch  6, CIFAR-10 Batch 1:  Loss:     1.2976 Validation Accuracy: 0.570600\n",
      "Epoch  6, CIFAR-10 Batch 2:  Loss:     1.1434 Validation Accuracy: 0.566400\n",
      "Epoch  6, CIFAR-10 Batch 3:  Loss:     0.9552 Validation Accuracy: 0.557800\n",
      "Epoch  6, CIFAR-10 Batch 4:  Loss:     1.0935 Validation Accuracy: 0.584200\n",
      "Epoch  6, CIFAR-10 Batch 5:  Loss:     1.1747 Validation Accuracy: 0.553600\n",
      "Epoch  7, CIFAR-10 Batch 1:  Loss:     1.2600 Validation Accuracy: 0.575400\n",
      "Epoch  7, CIFAR-10 Batch 2:  Loss:     1.0710 Validation Accuracy: 0.586400\n",
      "Epoch  7, CIFAR-10 Batch 3:  Loss:     0.8269 Validation Accuracy: 0.584600\n",
      "Epoch  7, CIFAR-10 Batch 4:  Loss:     0.9849 Validation Accuracy: 0.583800\n",
      "Epoch  7, CIFAR-10 Batch 5:  Loss:     1.0214 Validation Accuracy: 0.577200\n",
      "Epoch  8, CIFAR-10 Batch 1:  Loss:     1.1237 Validation Accuracy: 0.591000\n",
      "Epoch  8, CIFAR-10 Batch 2:  Loss:     0.9769 Validation Accuracy: 0.598000\n",
      "Epoch  8, CIFAR-10 Batch 3:  Loss:     0.7640 Validation Accuracy: 0.606800\n",
      "Epoch  8, CIFAR-10 Batch 4:  Loss:     0.8456 Validation Accuracy: 0.597400\n",
      "Epoch  8, CIFAR-10 Batch 5:  Loss:     0.8664 Validation Accuracy: 0.606000\n",
      "Epoch  9, CIFAR-10 Batch 1:  Loss:     1.0391 Validation Accuracy: 0.610600\n",
      "Epoch  9, CIFAR-10 Batch 2:  Loss:     0.9320 Validation Accuracy: 0.606000\n",
      "Epoch  9, CIFAR-10 Batch 3:  Loss:     0.7052 Validation Accuracy: 0.618200\n",
      "Epoch  9, CIFAR-10 Batch 4:  Loss:     0.8672 Validation Accuracy: 0.599000\n",
      "Epoch  9, CIFAR-10 Batch 5:  Loss:     0.9213 Validation Accuracy: 0.608400\n",
      "Epoch 10, CIFAR-10 Batch 1:  Loss:     1.0689 Validation Accuracy: 0.619400\n",
      "Epoch 10, CIFAR-10 Batch 2:  Loss:     0.8000 Validation Accuracy: 0.614800\n",
      "Epoch 10, CIFAR-10 Batch 3:  Loss:     0.6589 Validation Accuracy: 0.619200\n",
      "Epoch 10, CIFAR-10 Batch 4:  Loss:     0.7557 Validation Accuracy: 0.626000\n",
      "Epoch 10, CIFAR-10 Batch 5:  Loss:     0.7577 Validation Accuracy: 0.632600\n",
      "Epoch 11, CIFAR-10 Batch 1:  Loss:     0.9564 Validation Accuracy: 0.624200\n",
      "Epoch 11, CIFAR-10 Batch 2:  Loss:     0.7772 Validation Accuracy: 0.633200\n",
      "Epoch 11, CIFAR-10 Batch 3:  Loss:     0.6056 Validation Accuracy: 0.634800\n",
      "Epoch 11, CIFAR-10 Batch 4:  Loss:     0.6476 Validation Accuracy: 0.638200\n",
      "Epoch 11, CIFAR-10 Batch 5:  Loss:     0.6576 Validation Accuracy: 0.629800\n",
      "Epoch 12, CIFAR-10 Batch 1:  Loss:     0.8774 Validation Accuracy: 0.642000\n",
      "Epoch 12, CIFAR-10 Batch 2:  Loss:     0.6406 Validation Accuracy: 0.643400\n",
      "Epoch 12, CIFAR-10 Batch 3:  Loss:     0.5490 Validation Accuracy: 0.630800\n",
      "Epoch 12, CIFAR-10 Batch 4:  Loss:     0.6007 Validation Accuracy: 0.640000\n",
      "Epoch 12, CIFAR-10 Batch 5:  Loss:     0.6972 Validation Accuracy: 0.632800\n",
      "Epoch 13, CIFAR-10 Batch 1:  Loss:     0.8052 Validation Accuracy: 0.645000\n",
      "Epoch 13, CIFAR-10 Batch 2:  Loss:     0.6225 Validation Accuracy: 0.646800\n",
      "Epoch 13, CIFAR-10 Batch 3:  Loss:     0.5834 Validation Accuracy: 0.642600\n",
      "Epoch 13, CIFAR-10 Batch 4:  Loss:     0.6180 Validation Accuracy: 0.645400\n",
      "Epoch 13, CIFAR-10 Batch 5:  Loss:     0.5823 Validation Accuracy: 0.656200\n",
      "Epoch 14, CIFAR-10 Batch 1:  Loss:     0.7352 Validation Accuracy: 0.650200\n",
      "Epoch 14, CIFAR-10 Batch 2:  Loss:     0.6183 Validation Accuracy: 0.650600\n",
      "Epoch 14, CIFAR-10 Batch 3:  Loss:     0.5162 Validation Accuracy: 0.650200\n",
      "Epoch 14, CIFAR-10 Batch 4:  Loss:     0.4998 Validation Accuracy: 0.658200\n",
      "Epoch 14, CIFAR-10 Batch 5:  Loss:     0.5331 Validation Accuracy: 0.650800\n",
      "Epoch 15, CIFAR-10 Batch 1:  Loss:     0.6848 Validation Accuracy: 0.645800\n",
      "Epoch 15, CIFAR-10 Batch 2:  Loss:     0.5336 Validation Accuracy: 0.650400\n",
      "Epoch 15, CIFAR-10 Batch 3:  Loss:     0.4915 Validation Accuracy: 0.653200\n",
      "Epoch 15, CIFAR-10 Batch 4:  Loss:     0.5160 Validation Accuracy: 0.656200\n",
      "Epoch 15, CIFAR-10 Batch 5:  Loss:     0.4949 Validation Accuracy: 0.641600\n",
      "Epoch 16, CIFAR-10 Batch 1:  Loss:     0.6612 Validation Accuracy: 0.656600\n",
      "Epoch 16, CIFAR-10 Batch 2:  Loss:     0.5580 Validation Accuracy: 0.659600\n",
      "Epoch 16, CIFAR-10 Batch 3:  Loss:     0.4952 Validation Accuracy: 0.659000\n",
      "Epoch 16, CIFAR-10 Batch 4:  Loss:     0.5321 Validation Accuracy: 0.651600\n",
      "Epoch 16, CIFAR-10 Batch 5:  Loss:     0.4973 Validation Accuracy: 0.642200\n",
      "Epoch 17, CIFAR-10 Batch 1:  Loss:     0.5840 Validation Accuracy: 0.660000\n",
      "Epoch 17, CIFAR-10 Batch 2:  Loss:     0.5695 Validation Accuracy: 0.646800\n",
      "Epoch 17, CIFAR-10 Batch 3:  Loss:     0.5132 Validation Accuracy: 0.653600\n",
      "Epoch 17, CIFAR-10 Batch 4:  Loss:     0.4772 Validation Accuracy: 0.648000\n",
      "Epoch 17, CIFAR-10 Batch 5:  Loss:     0.4390 Validation Accuracy: 0.654400\n",
      "Epoch 18, CIFAR-10 Batch 1:  Loss:     0.5819 Validation Accuracy: 0.652200\n",
      "Epoch 18, CIFAR-10 Batch 2:  Loss:     0.5900 Validation Accuracy: 0.659800\n",
      "Epoch 18, CIFAR-10 Batch 3:  Loss:     0.4066 Validation Accuracy: 0.666200\n",
      "Epoch 18, CIFAR-10 Batch 4:  Loss:     0.4957 Validation Accuracy: 0.656600\n",
      "Epoch 18, CIFAR-10 Batch 5:  Loss:     0.4603 Validation Accuracy: 0.652800\n",
      "Epoch 19, CIFAR-10 Batch 1:  Loss:     0.5551 Validation Accuracy: 0.659200\n",
      "Epoch 19, CIFAR-10 Batch 2:  Loss:     0.4657 Validation Accuracy: 0.658200\n",
      "Epoch 19, CIFAR-10 Batch 3:  Loss:     0.3941 Validation Accuracy: 0.663200\n",
      "Epoch 19, CIFAR-10 Batch 4:  Loss:     0.4571 Validation Accuracy: 0.652800\n",
      "Epoch 19, CIFAR-10 Batch 5:  Loss:     0.3846 Validation Accuracy: 0.665400\n",
      "Epoch 20, CIFAR-10 Batch 1:  Loss:     0.5628 Validation Accuracy: 0.659800\n",
      "Epoch 20, CIFAR-10 Batch 2:  Loss:     0.4549 Validation Accuracy: 0.647400\n",
      "Epoch 20, CIFAR-10 Batch 3:  Loss:     0.3612 Validation Accuracy: 0.655800\n",
      "Epoch 20, CIFAR-10 Batch 4:  Loss:     0.3907 Validation Accuracy: 0.660200\n",
      "Epoch 20, CIFAR-10 Batch 5:  Loss:     0.4321 Validation Accuracy: 0.643400\n",
      "Epoch 21, CIFAR-10 Batch 1:  Loss:     0.5329 Validation Accuracy: 0.663200\n",
      "Epoch 21, CIFAR-10 Batch 2:  Loss:     0.4603 Validation Accuracy: 0.661400\n",
      "Epoch 21, CIFAR-10 Batch 3:  Loss:     0.3558 Validation Accuracy: 0.655000\n",
      "Epoch 21, CIFAR-10 Batch 4:  Loss:     0.3975 Validation Accuracy: 0.660600\n",
      "Epoch 21, CIFAR-10 Batch 5:  Loss:     0.3822 Validation Accuracy: 0.656200\n",
      "Epoch 22, CIFAR-10 Batch 1:  Loss:     0.5220 Validation Accuracy: 0.643000\n",
      "Epoch 22, CIFAR-10 Batch 2:  Loss:     0.4381 Validation Accuracy: 0.654000\n"
     ]
    },
    {
     "name": "stdout",
     "output_type": "stream",
     "text": [
      "Epoch 22, CIFAR-10 Batch 3:  Loss:     0.3176 Validation Accuracy: 0.663800\n",
      "Epoch 22, CIFAR-10 Batch 4:  Loss:     0.3623 Validation Accuracy: 0.654200\n",
      "Epoch 22, CIFAR-10 Batch 5:  Loss:     0.3034 Validation Accuracy: 0.657600\n",
      "Epoch 23, CIFAR-10 Batch 1:  Loss:     0.4715 Validation Accuracy: 0.641000\n",
      "Epoch 23, CIFAR-10 Batch 2:  Loss:     0.4170 Validation Accuracy: 0.655400\n",
      "Epoch 23, CIFAR-10 Batch 3:  Loss:     0.3254 Validation Accuracy: 0.647200\n",
      "Epoch 23, CIFAR-10 Batch 4:  Loss:     0.3821 Validation Accuracy: 0.656400\n",
      "Epoch 23, CIFAR-10 Batch 5:  Loss:     0.3476 Validation Accuracy: 0.653400\n",
      "Epoch 24, CIFAR-10 Batch 1:  Loss:     0.4303 Validation Accuracy: 0.650800\n",
      "Epoch 24, CIFAR-10 Batch 2:  Loss:     0.3978 Validation Accuracy: 0.659200\n",
      "Epoch 24, CIFAR-10 Batch 3:  Loss:     0.3051 Validation Accuracy: 0.659600\n",
      "Epoch 24, CIFAR-10 Batch 4:  Loss:     0.3098 Validation Accuracy: 0.660000\n",
      "Epoch 24, CIFAR-10 Batch 5:  Loss:     0.3642 Validation Accuracy: 0.657200\n",
      "Epoch 25, CIFAR-10 Batch 1:  Loss:     0.5089 Validation Accuracy: 0.645200\n",
      "Epoch 25, CIFAR-10 Batch 2:  Loss:     0.4129 Validation Accuracy: 0.646000\n",
      "Epoch 25, CIFAR-10 Batch 3:  Loss:     0.2542 Validation Accuracy: 0.658600\n",
      "Epoch 25, CIFAR-10 Batch 4:  Loss:     0.3215 Validation Accuracy: 0.663800\n",
      "Epoch 25, CIFAR-10 Batch 5:  Loss:     0.3172 Validation Accuracy: 0.659400\n",
      "Epoch 26, CIFAR-10 Batch 1:  Loss:     0.4513 Validation Accuracy: 0.644400\n",
      "Epoch 26, CIFAR-10 Batch 2:  Loss:     0.3766 Validation Accuracy: 0.662600\n",
      "Epoch 26, CIFAR-10 Batch 3:  Loss:     0.2359 Validation Accuracy: 0.653000\n",
      "Epoch 26, CIFAR-10 Batch 4:  Loss:     0.2658 Validation Accuracy: 0.659800\n",
      "Epoch 26, CIFAR-10 Batch 5:  Loss:     0.3074 Validation Accuracy: 0.659200\n",
      "Epoch 27, CIFAR-10 Batch 1:  Loss:     0.3988 Validation Accuracy: 0.651800\n",
      "Epoch 27, CIFAR-10 Batch 2:  Loss:     0.3583 Validation Accuracy: 0.654800\n",
      "Epoch 27, CIFAR-10 Batch 3:  Loss:     0.2395 Validation Accuracy: 0.653800\n",
      "Epoch 27, CIFAR-10 Batch 4:  Loss:     0.3204 Validation Accuracy: 0.655400\n",
      "Epoch 27, CIFAR-10 Batch 5:  Loss:     0.2506 Validation Accuracy: 0.658000\n",
      "Epoch 28, CIFAR-10 Batch 1:  Loss:     0.4215 Validation Accuracy: 0.652400\n",
      "Epoch 28, CIFAR-10 Batch 2:  Loss:     0.3460 Validation Accuracy: 0.655600\n",
      "Epoch 28, CIFAR-10 Batch 3:  Loss:     0.2237 Validation Accuracy: 0.665000\n",
      "Epoch 28, CIFAR-10 Batch 4:  Loss:     0.2623 Validation Accuracy: 0.659600\n",
      "Epoch 28, CIFAR-10 Batch 5:  Loss:     0.2407 Validation Accuracy: 0.657600\n",
      "Epoch 29, CIFAR-10 Batch 1:  Loss:     0.4125 Validation Accuracy: 0.645400\n",
      "Epoch 29, CIFAR-10 Batch 2:  Loss:     0.3402 Validation Accuracy: 0.660200\n",
      "Epoch 29, CIFAR-10 Batch 3:  Loss:     0.2498 Validation Accuracy: 0.660800\n",
      "Epoch 29, CIFAR-10 Batch 4:  Loss:     0.2470 Validation Accuracy: 0.664400\n",
      "Epoch 29, CIFAR-10 Batch 5:  Loss:     0.2398 Validation Accuracy: 0.658000\n",
      "Epoch 30, CIFAR-10 Batch 1:  Loss:     0.4288 Validation Accuracy: 0.650000\n",
      "Epoch 30, CIFAR-10 Batch 2:  Loss:     0.3026 Validation Accuracy: 0.664000\n",
      "Epoch 30, CIFAR-10 Batch 3:  Loss:     0.2047 Validation Accuracy: 0.663600\n",
      "Epoch 30, CIFAR-10 Batch 4:  Loss:     0.2717 Validation Accuracy: 0.657000\n",
      "Epoch 30, CIFAR-10 Batch 5:  Loss:     0.2411 Validation Accuracy: 0.665800\n"
     ]
    }
   ],
   "source": [
    "\"\"\"\n",
    "DON'T MODIFY ANYTHING IN THIS CELL\n",
    "\"\"\"\n",
    "save_model_path = './image_classification'\n",
    "\n",
    "print('Training...')\n",
    "with tf.Session() as sess:\n",
    "    # Initializing the variables\n",
    "    sess.run(tf.global_variables_initializer())\n",
    "    \n",
    "    # Training cycle\n",
    "    for epoch in range(epochs):\n",
    "        # Loop over all batches\n",
    "        n_batches = 5\n",
    "        for batch_i in range(1, n_batches + 1):\n",
    "            for batch_features, batch_labels in helper.load_preprocess_training_batch(batch_i, batch_size):\n",
    "                train_neural_network(sess, optimizer, keep_probability, batch_features, batch_labels)\n",
    "            print('Epoch {:>2}, CIFAR-10 Batch {}:  '.format(epoch + 1, batch_i), end='')\n",
    "            print_stats(sess, batch_features, batch_labels, cost, accuracy)\n",
    "            \n",
    "    # Save Model\n",
    "    saver = tf.train.Saver()\n",
    "    save_path = saver.save(sess, save_model_path)"
   ]
  },
  {
   "cell_type": "markdown",
   "metadata": {},
   "source": [
    "# Checkpoint\n",
    "The model has been saved to disk.\n",
    "## Test Model\n",
    "Test your model against the test dataset.  This will be your final accuracy. You should have an accuracy greater than 50%. If you don't, keep tweaking the model architecture and parameters."
   ]
  },
  {
   "cell_type": "code",
   "execution_count": 21,
   "metadata": {},
   "outputs": [
    {
     "name": "stdout",
     "output_type": "stream",
     "text": [
      "Testing Accuracy: 0.6497231012658228\n",
      "\n"
     ]
    },
    {
     "data": {
      "image/png": "[encoded data removed]",
      "text/plain": [
       "<matplotlib.figure.Figure at 0x2441e8f6ba8>"
      ]
     },
     "metadata": {
      "image/png": {
       "height": 319,
       "width": 355
      }
     },
     "output_type": "display_data"
    }
   ],
   "source": [
    "\"\"\"\n",
    "DON'T MODIFY ANYTHING IN THIS CELL\n",
    "\"\"\"\n",
    "%matplotlib inline\n",
    "%config InlineBackend.figure_format = 'retina'\n",
    "\n",
    "import tensorflow as tf\n",
    "import pickle\n",
    "import helper\n",
    "import random\n",
    "\n",
    "# Set batch size if not already set\n",
    "try:\n",
    "    if batch_size:\n",
    "        pass\n",
    "except NameError:\n",
    "    batch_size = 64\n",
    "\n",
    "save_model_path = './image_classification'\n",
    "n_samples = 4\n",
    "top_n_predictions = 3\n",
    "\n",
    "def test_model():\n",
    "    \"\"\"\n",
    "    Test the saved model against the test dataset\n",
    "    \"\"\"\n",
    "\n",
    "    test_features, test_labels = pickle.load(open('preprocess_test.p', mode='rb'))\n",
    "    loaded_graph = tf.Graph()\n",
    "\n",
    "    with tf.Session(graph=loaded_graph) as sess:\n",
    "        # Load model\n",
    "        loader = tf.train.import_meta_graph(save_model_path + '.meta')\n",
    "        loader.restore(sess, save_model_path)\n",
    "\n",
    "        # Get Tensors from loaded model\n",
    "        loaded_x = loaded_graph.get_tensor_by_name('x:0')\n",
    "        loaded_y = loaded_graph.get_tensor_by_name('y:0')\n",
    "        loaded_keep_prob = loaded_graph.get_tensor_by_name('keep_prob:0')\n",
    "        loaded_logits = loaded_graph.get_tensor_by_name('logits:0')\n",
    "        loaded_acc = loaded_graph.get_tensor_by_name('accuracy:0')\n",
    "        \n",
    "        # Get accuracy in batches for memory limitations\n",
    "        test_batch_acc_total = 0\n",
    "        test_batch_count = 0\n",
    "        \n",
    "        for test_feature_batch, test_label_batch in helper.batch_features_labels(test_features, test_labels, batch_size):\n",
    "            test_batch_acc_total += sess.run(\n",
    "                loaded_acc,\n",
    "                feed_dict={loaded_x: test_feature_batch, loaded_y: test_label_batch, loaded_keep_prob: 1.0})\n",
    "            test_batch_count += 1\n",
    "\n",
    "        print('Testing Accuracy: {}\\n'.format(test_batch_acc_total/test_batch_count))\n",
    "\n",
    "        # Print Random Samples\n",
    "        random_test_features, random_test_labels = tuple(zip(*random.sample(list(zip(test_features, test_labels)), n_samples)))\n",
    "        random_test_predictions = sess.run(\n",
    "            tf.nn.top_k(tf.nn.softmax(loaded_logits), top_n_predictions),\n",
    "            feed_dict={loaded_x: random_test_features, loaded_y: random_test_labels, loaded_keep_prob: 1.0})\n",
    "        helper.display_image_predictions(random_test_features, random_test_labels, random_test_predictions)\n",
    "\n",
    "\n",
    "test_model()"
   ]
  },
  {
   "cell_type": "markdown",
   "metadata": {},
   "source": [
    "## Why 50-80% Accuracy?\n",
    "You might be wondering why you can't get an accuracy any higher. First things first, 50% isn't bad for a simple CNN.  Pure guessing would get you 10% accuracy. However, you might notice people are getting scores [well above 80%](http://rodrigob.github.io/are_we_there_yet/build/classification_datasets_results.html#43494641522d3130).  That's because we haven't taught you all there is to know about neural networks. We still need to cover a few more techniques.\n",
    "## Submitting This Project\n",
    "When submitting this project, make sure to run all the cells before saving the notebook.  Save the notebook file as \"dlnd_image_classification.ipynb\" and save it as a HTML file under \"File\" -> \"Download as\".  Include the \"helper.py\" and \"problem_unittests.py\" files in your submission."
   ]
  }
 ],
 "metadata": {
  "kernelspec": {
   "display_name": "Python [default]",
   "language": "python",
   "name": "python3"
  },
  "language_info": {
   "codemirror_mode": {
    "name": "ipython",
    "version": 3
   },
   "file_extension": ".py",
   "mimetype": "text/x-python",
   "name": "python",
   "nbconvert_exporter": "python",
   "pygments_lexer": "ipython3",
   "version": "3.5.3"
  }
 },
 "nbformat": 4,
 "nbformat_minor": 1
}
