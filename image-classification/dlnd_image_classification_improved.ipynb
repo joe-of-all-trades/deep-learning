{
 "cells": [
  {
   "cell_type": "markdown",
   "metadata": {
    "collapsed": true
   },
   "source": [
    "# Image Classification\n",
    "In this project, you'll classify images from the [CIFAR-10 dataset](https://www.cs.toronto.edu/~kriz/cifar.html).  The dataset consists of airplanes, dogs, cats, and other objects. You'll preprocess the images, then train a convolutional neural network on all the samples. The images need to be normalized and the labels need to be one-hot encoded.  You'll get to apply what you learned and build a convolutional, max pooling, dropout, and fully connected layers.  At the end, you'll get to see your neural network's predictions on the sample images.\n",
    "## Get the Data\n",
    "Run the following cell to download the [CIFAR-10 dataset for python](https://www.cs.toronto.edu/~kriz/cifar-10-python.tar.gz)."
   ]
  },
  {
   "cell_type": "code",
   "execution_count": 198,
   "metadata": {},
   "outputs": [
    {
     "name": "stdout",
     "output_type": "stream",
     "text": [
      "All files found!\n"
     ]
    }
   ],
   "source": [
    "\"\"\"\n",
    "DON'T MODIFY ANYTHING IN THIS CELL THAT IS BELOW THIS LINE\n",
    "\"\"\"\n",
    "from urllib.request import urlretrieve\n",
    "from os.path import isfile, isdir\n",
    "from tqdm import tqdm\n",
    "import problem_unittests as tests\n",
    "import tarfile\n",
    "\n",
    "cifar10_dataset_folder_path = 'cifar-10-batches-py'\n",
    "\n",
    "# Use Floyd's cifar-10 dataset if present\n",
    "floyd_cifar10_location = '/input/cifar-10/python.tar.gz'\n",
    "if isfile(floyd_cifar10_location):\n",
    "    tar_gz_path = floyd_cifar10_location\n",
    "else:\n",
    "    tar_gz_path = 'cifar-10-python.tar.gz'\n",
    "\n",
    "class DLProgress(tqdm):\n",
    "    last_block = 0\n",
    "\n",
    "    def hook(self, block_num=1, block_size=1, total_size=None):\n",
    "        self.total = total_size\n",
    "        self.update((block_num - self.last_block) * block_size)\n",
    "        self.last_block = block_num\n",
    "\n",
    "if not isfile(tar_gz_path):\n",
    "    with DLProgress(unit='B', unit_scale=True, miniters=1, desc='CIFAR-10 Dataset') as pbar:\n",
    "        urlretrieve(\n",
    "            'https://www.cs.toronto.edu/~kriz/cifar-10-python.tar.gz',\n",
    "            tar_gz_path,\n",
    "            pbar.hook)\n",
    "\n",
    "if not isdir(cifar10_dataset_folder_path):\n",
    "    with tarfile.open(tar_gz_path) as tar:\n",
    "        tar.extractall()\n",
    "        tar.close()\n",
    "\n",
    "\n",
    "tests.test_folder_path(cifar10_dataset_folder_path)"
   ]
  },
  {
   "cell_type": "markdown",
   "metadata": {},
   "source": [
    "## Explore the Data\n",
    "The dataset is broken into batches to prevent your machine from running out of memory.  The CIFAR-10 dataset consists of 5 batches, named `data_batch_1`, `data_batch_2`, etc.. Each batch contains the labels and images that are one of the following:\n",
    "* airplane\n",
    "* automobile\n",
    "* bird\n",
    "* cat\n",
    "* deer\n",
    "* dog\n",
    "* frog\n",
    "* horse\n",
    "* ship\n",
    "* truck\n",
    "\n",
    "Understanding a dataset is part of making predictions on the data.  Play around with the code cell below by changing the `batch_id` and `sample_id`. The `batch_id` is the id for a batch (1-5). The `sample_id` is the id for a image and label pair in the batch.\n",
    "\n",
    "Ask yourself \"What are all possible labels?\", \"What is the range of values for the image data?\", \"Are the labels in order or random?\".  Answers to questions like these will help you preprocess the data and end up with better predictions."
   ]
  },
  {
   "cell_type": "code",
   "execution_count": 199,
   "metadata": {},
   "outputs": [
    {
     "name": "stdout",
     "output_type": "stream",
     "text": [
      "\n",
      "Stats of batch 1:\n",
      "Samples: 10000\n",
      "Label Counts: {0: 1005, 1: 974, 2: 1032, 3: 1016, 4: 999, 5: 937, 6: 1030, 7: 1001, 8: 1025, 9: 981}\n",
      "First 20 Labels: [6, 9, 9, 4, 1, 1, 2, 7, 8, 3, 4, 7, 7, 2, 9, 9, 9, 3, 2, 6]\n",
      "\n",
      "Example of Image 6:\n",
      "Image - Min Value: 7 Max Value: 249\n",
      "Image - Shape: (32, 32, 3)\n",
      "Label - Label Id: 2 Name: bird\n"
     ]
    },
    {
     "data": {
      "image/png": "[encoded data removed]",
      "text/plain": [
       "<matplotlib.figure.Figure at 0x7f1eca2657f0>"
      ]
     },
     "metadata": {
      "image/png": {
       "height": 250,
       "width": 253
      }
     },
     "output_type": "display_data"
    }
   ],
   "source": [
    "%matplotlib inline\n",
    "%config InlineBackend.figure_format = 'retina'\n",
    "\n",
    "import helper\n",
    "import numpy as np\n",
    "\n",
    "# Explore the dataset\n",
    "batch_id = 1\n",
    "sample_id = 6\n",
    "helper.display_stats(cifar10_dataset_folder_path, batch_id, sample_id)"
   ]
  },
  {
   "cell_type": "markdown",
   "metadata": {},
   "source": [
    "## Implement Preprocess Functions\n",
    "### Normalize\n",
    "In the cell below, implement the `normalize` function to take in image data, `x`, and return it as a normalized Numpy array. The values should be in the range of 0 to 1, inclusive.  The return object should be the same shape as `x`."
   ]
  },
  {
   "cell_type": "code",
   "execution_count": 200,
   "metadata": {},
   "outputs": [
    {
     "name": "stdout",
     "output_type": "stream",
     "text": [
      "Tests Passed\n"
     ]
    }
   ],
   "source": [
    "def normalize(x):\n",
    "    \"\"\"\n",
    "    Normalize a list of sample image data in the range of 0 to 1\n",
    "    : x: List of image data.  The image shape is (32, 32, 3)\n",
    "    : return: Numpy array of normalize data\n",
    "    \"\"\"\n",
    "    # TODO: Implement Function\n",
    "    return ( x - x.min() ) / ( x.max() - x.min() )\n",
    "\n",
    "\"\"\"\n",
    "DON'T MODIFY ANYTHING IN THIS CELL THAT IS BELOW THIS LINE\n",
    "\"\"\"\n",
    "tests.test_normalize(normalize)"
   ]
  },
  {
   "cell_type": "markdown",
   "metadata": {},
   "source": [
    "### One-hot encode\n",
    "Just like the previous code cell, you'll be implementing a function for preprocessing.  This time, you'll implement the `one_hot_encode` function. The input, `x`, are a list of labels.  Implement the function to return the list of labels as One-Hot encoded Numpy array.  The possible values for labels are 0 to 9. The one-hot encoding function should return the same encoding for each value between each call to `one_hot_encode`.  Make sure to save the map of encodings outside the function.\n",
    "\n",
    "Hint: Don't reinvent the wheel."
   ]
  },
  {
   "cell_type": "code",
   "execution_count": 201,
   "metadata": {},
   "outputs": [
    {
     "name": "stdout",
     "output_type": "stream",
     "text": [
      "Tests Passed\n"
     ]
    }
   ],
   "source": [
    "def one_hot_encode(x):\n",
    "    \"\"\"\n",
    "    One hot encode a list of sample labels. Return a one-hot encoded vector for each label.\n",
    "    : x: List of sample Labels\n",
    "    : return: Numpy array of one-hot encoded labels\n",
    "    \"\"\"\n",
    "    # TODO: Implement Function\n",
    "    output = np.zeros([len(x), 10])\n",
    "    \n",
    "    for idx, item in enumerate(x):\n",
    "        output[idx, item] = 1\n",
    "        \n",
    "    return output\n",
    "    #tensorflow already has a built-in function:\n",
    "    #return tf.one_hot_encode(x)\n",
    "\n",
    "\"\"\"\n",
    "DON'T MODIFY ANYTHING IN THIS CELL THAT IS BELOW THIS LINE\n",
    "\"\"\"\n",
    "tests.test_one_hot_encode(one_hot_encode)"
   ]
  },
  {
   "cell_type": "markdown",
   "metadata": {},
   "source": [
    "### Randomize Data\n",
    "As you saw from exploring the data above, the order of the samples are randomized.  It doesn't hurt to randomize it again, but you don't need to for this dataset."
   ]
  },
  {
   "cell_type": "markdown",
   "metadata": {},
   "source": [
    "## Preprocess all the data and save it\n",
    "Running the code cell below will preprocess all the CIFAR-10 data and save it to file. The code below also uses 10% of the training data for validation."
   ]
  },
  {
   "cell_type": "code",
   "execution_count": 202,
   "metadata": {
    "collapsed": true
   },
   "outputs": [],
   "source": [
    "\"\"\"\n",
    "DON'T MODIFY ANYTHING IN THIS CELL\n",
    "\"\"\"\n",
    "# Preprocess Training, Validation, and Testing Data\n",
    "helper.preprocess_and_save_data(cifar10_dataset_folder_path, normalize, one_hot_encode)"
   ]
  },
  {
   "cell_type": "markdown",
   "metadata": {},
   "source": [
    "# Check Point\n",
    "This is your first checkpoint.  If you ever decide to come back to this notebook or have to restart the notebook, you can start from here.  The preprocessed data has been saved to disk."
   ]
  },
  {
   "cell_type": "code",
   "execution_count": 203,
   "metadata": {
    "collapsed": true
   },
   "outputs": [],
   "source": [
    "\"\"\"\n",
    "DON'T MODIFY ANYTHING IN THIS CELL\n",
    "\"\"\"\n",
    "import pickle\n",
    "import problem_unittests as tests\n",
    "import helper\n",
    "\n",
    "# Load the Preprocessed Validation data\n",
    "valid_features, valid_labels = pickle.load(open('preprocess_validation.p', mode='rb'))"
   ]
  },
  {
   "cell_type": "markdown",
   "metadata": {},
   "source": [
    "## Build the network\n",
    "For the neural network, you'll build each layer into a function.  Most of the code you've seen has been outside of functions. To test your code more thoroughly, we require that you put each layer in a function.  This allows us to give you better feedback and test for simple mistakes using our unittests before you submit your project.\n",
    "\n",
    ">**Note:** If you're finding it hard to dedicate enough time for this course each week, we've provided a small shortcut to this part of the project. In the next couple of problems, you'll have the option to use classes from the [TensorFlow Layers](https://www.tensorflow.org/api_docs/python/tf/layers) or [TensorFlow Layers (contrib)](https://www.tensorflow.org/api_guides/python/contrib.layers) packages to build each layer, except the layers you build in the \"Convolutional and Max Pooling Layer\" section.  TF Layers is similar to Keras's and TFLearn's abstraction to layers, so it's easy to pickup.\n",
    "\n",
    ">However, if you would like to get the most out of this course, try to solve all the problems _without_ using anything from the TF Layers packages. You **can** still use classes from other packages that happen to have the same name as ones you find in TF Layers! For example, instead of using the TF Layers version of the `conv2d` class, [tf.layers.conv2d](https://www.tensorflow.org/api_docs/python/tf/layers/conv2d), you would want to use the TF Neural Network version of `conv2d`, [tf.nn.conv2d](https://www.tensorflow.org/api_docs/python/tf/nn/conv2d). \n",
    "\n",
    "Let's begin!\n",
    "\n",
    "### Input\n",
    "The neural network needs to read the image data, one-hot encoded labels, and dropout keep probability. Implement the following functions\n",
    "* Implement `neural_net_image_input`\n",
    " * Return a [TF Placeholder](https://www.tensorflow.org/api_docs/python/tf/placeholder)\n",
    " * Set the shape using `image_shape` with batch size set to `None`.\n",
    " * Name the TensorFlow placeholder \"x\" using the TensorFlow `name` parameter in the [TF Placeholder](https://www.tensorflow.org/api_docs/python/tf/placeholder).\n",
    "* Implement `neural_net_label_input`\n",
    " * Return a [TF Placeholder](https://www.tensorflow.org/api_docs/python/tf/placeholder)\n",
    " * Set the shape using `n_classes` with batch size set to `None`.\n",
    " * Name the TensorFlow placeholder \"y\" using the TensorFlow `name` parameter in the [TF Placeholder](https://www.tensorflow.org/api_docs/python/tf/placeholder).\n",
    "* Implement `neural_net_keep_prob_input`\n",
    " * Return a [TF Placeholder](https://www.tensorflow.org/api_docs/python/tf/placeholder) for dropout keep probability.\n",
    " * Name the TensorFlow placeholder \"keep_prob\" using the TensorFlow `name` parameter in the [TF Placeholder](https://www.tensorflow.org/api_docs/python/tf/placeholder).\n",
    "\n",
    "These names will be used at the end of the project to load your saved model.\n",
    "\n",
    "Note: `None` for shapes in TensorFlow allow for a dynamic size."
   ]
  },
  {
   "cell_type": "code",
   "execution_count": 204,
   "metadata": {},
   "outputs": [
    {
     "name": "stdout",
     "output_type": "stream",
     "text": [
      "Image Input Tests Passed.\n",
      "Label Input Tests Passed.\n",
      "Keep Prob Tests Passed.\n"
     ]
    }
   ],
   "source": [
    "import tensorflow as tf\n",
    "\n",
    "def neural_net_image_input(image_shape):\n",
    "    \"\"\"\n",
    "    Return a Tensor for a batch of image input\n",
    "    : image_shape: Shape of the images\n",
    "    : return: Tensor for image input.\n",
    "    \"\"\"\n",
    "    # TODO: Implement Function\n",
    "    # usage : tf.placeholder(dtype, shape=None, name=None)\n",
    "    return tf.placeholder(tf.float32, [None, image_shape[0], image_shape[1], image_shape[2]], \"x\")\n",
    "\n",
    "\n",
    "def neural_net_label_input(n_classes):\n",
    "    \"\"\"\n",
    "    Return a Tensor for a batch of label input\n",
    "    : n_classes: Number of classes\n",
    "    : return: Tensor for label input.\n",
    "    \"\"\"\n",
    "    # TODO: Implement Function\n",
    "    return tf.placeholder(tf.float32, [None, n_classes], \"y\")\n",
    "\n",
    "\n",
    "def neural_net_keep_prob_input():\n",
    "    \"\"\"\n",
    "    Return a Tensor for keep probability\n",
    "    : return: Tensor for keep probability.\n",
    "    \"\"\"\n",
    "    # TODO: Implement Function\n",
    "    return tf.placeholder(tf.float32, None, \"keep_prob\")\n",
    "\n",
    "\n",
    "\"\"\"\n",
    "DON'T MODIFY ANYTHING IN THIS CELL THAT IS BELOW THIS LINE\n",
    "\"\"\"\n",
    "tf.reset_default_graph()\n",
    "tests.test_nn_image_inputs(neural_net_image_input)\n",
    "tests.test_nn_label_inputs(neural_net_label_input)\n",
    "tests.test_nn_keep_prob_inputs(neural_net_keep_prob_input)"
   ]
  },
  {
   "cell_type": "markdown",
   "metadata": {},
   "source": [
    "### Convolution and Max Pooling Layer\n",
    "Convolution layers have a lot of success with images. For this code cell, you should implement the function `conv2d_maxpool` to apply convolution then max pooling:\n",
    "* Create the weight and bias using `conv_ksize`, `conv_num_outputs` and the shape of `x_tensor`.\n",
    "* Apply a convolution to `x_tensor` using weight and `conv_strides`.\n",
    " * We recommend you use same padding, but you're welcome to use any padding.\n",
    "* Add bias\n",
    "* Add a nonlinear activation to the convolution.\n",
    "* Apply Max Pooling using `pool_ksize` and `pool_strides`.\n",
    " * We recommend you use same padding, but you're welcome to use any padding.\n",
    "\n",
    "**Note:** You **can't** use [TensorFlow Layers](https://www.tensorflow.org/api_docs/python/tf/layers) or [TensorFlow Layers (contrib)](https://www.tensorflow.org/api_guides/python/contrib.layers) for **this** layer, but you can still use TensorFlow's [Neural Network](https://www.tensorflow.org/api_docs/python/tf/nn) package. You may still use the shortcut option for all the **other** layers."
   ]
  },
  {
   "cell_type": "code",
   "execution_count": 205,
   "metadata": {},
   "outputs": [
    {
     "name": "stdout",
     "output_type": "stream",
     "text": [
      "Tests Passed\n"
     ]
    }
   ],
   "source": [
    "def conv2d_maxpool(x_tensor, conv_num_outputs, conv_ksize, conv_strides, pool_ksize, pool_strides, maxpool=True):\n",
    "    \"\"\"\n",
    "    Apply convolution then max pooling to x_tensor\n",
    "    :param x_tensor: TensorFlow Tensor\n",
    "    :param conv_num_outputs: Number of outputs for the convolutional layer\n",
    "    :param conv_ksize: kernal size 2-D Tuple for the convolutional layer\n",
    "    :param conv_strides: Stride 2-D Tuple for convolution\n",
    "    :param pool_ksize: kernal size 2-D Tuple for pool\n",
    "    :param pool_strides: Stride 2-D Tuple for pool\n",
    "    : return: A tensor that represents convolution and max pooling of x_tensor\n",
    "    \"\"\"\n",
    "    # TODO: Implement Function\n",
    "    #wc1 = tf.Variable(tf.truncated_normal( [ conv_ksize[0], conv_ksize[1], x_tensor.get_shape().as_list()[3], conv_num_outputs ],\n",
    "    #                                  mean=0.0, stddev=0.1, dtype=tf.float32))\n",
    "    with tf.variable_scope('') as scope:\n",
    "        try:\n",
    "            wc1 = tf.get_variable(\"wc1\", shape=[conv_ksize[0], conv_ksize[1], x_tensor.get_shape().as_list()[3], conv_num_outputs],\n",
    "                         initializer=tf.contrib.layers.xavier_initializer())\n",
    "        except ValueError:\n",
    "            scope.reuse_variables()\n",
    "            wc1 = tf.get_variable(\"wc1\", shape=[conv_ksize[0], conv_ksize[1], x_tensor.get_shape().as_list()[3], conv_num_outputs],\n",
    "                         initializer=tf.contrib.layers.xavier_initializer())\n",
    "    \n",
    "    bc1 = tf.Variable(tf.truncated_normal([conv_num_outputs],\n",
    "                                      mean=0.0, stddev=0.1, dtype=tf.float32))\n",
    "    \n",
    "    x_out = tf.nn.conv2d(x_tensor, wc1, strides=[1, conv_strides[0], conv_strides[1], 1], padding='SAME')\n",
    "    x_out = tf.nn.bias_add(x_out, bc1)\n",
    "    x_out = tf.nn.relu(x_out)\n",
    "    \n",
    "    if maxpool==True:\n",
    "        x_out = tf.nn.max_pool(x_out, ksize=[1, pool_ksize[0], pool_ksize[1], 1], \n",
    "                           strides=[1, pool_strides[0], pool_strides[1], 1], padding='SAME')\n",
    "        x_out = tf.nn.relu(x_out)\n",
    "    \n",
    "    return x_out\n",
    "\n",
    "\n",
    "\"\"\"\n",
    "DON'T MODIFY ANYTHING IN THIS CELL THAT IS BELOW THIS LINE\n",
    "\"\"\"\n",
    "tests.test_con_pool(conv2d_maxpool)"
   ]
  },
  {
   "cell_type": "markdown",
   "metadata": {},
   "source": [
    "### Flatten Layer\n",
    "Implement the `flatten` function to change the dimension of `x_tensor` from a 4-D tensor to a 2-D tensor.  The output should be the shape (*Batch Size*, *Flattened Image Size*). Shortcut option: you can use classes from the [TensorFlow Layers](https://www.tensorflow.org/api_docs/python/tf/layers) or [TensorFlow Layers (contrib)](https://www.tensorflow.org/api_guides/python/contrib.layers) packages for this layer. For more of a challenge, only use other TensorFlow packages."
   ]
  },
  {
   "cell_type": "code",
   "execution_count": 206,
   "metadata": {},
   "outputs": [
    {
     "name": "stdout",
     "output_type": "stream",
     "text": [
      "Tests Passed\n"
     ]
    }
   ],
   "source": [
    "def flatten(x_tensor):\n",
    "    \"\"\"\n",
    "    Flatten x_tensor to (Batch Size, Flattened Image Size)\n",
    "    : x_tensor: A tensor of size (Batch Size, ...), where ... are the image dimensions.\n",
    "    : return: A tensor of size (Batch Size, Flattened Image Size).\n",
    "    \"\"\"\n",
    "    # TODO: Implement Function\n",
    "    # reference : https://github.com/tensorflow/tensorflow/issues/7253\n",
    "    \n",
    "    return tf.reshape(x_tensor, [tf.shape(x_tensor)[0], np.prod(x_tensor.get_shape().as_list()[1:])])\n",
    "    \n",
    "    # This also works\n",
    "    #return tf.reshape(x_tensor, [-1, np.prod(x_tensor.shape[1:]).value])\n",
    "\n",
    "\"\"\"\n",
    "DON'T MODIFY ANYTHING IN THIS CELL THAT IS BELOW THIS LINE\n",
    "\"\"\"\n",
    "tests.test_flatten(flatten)"
   ]
  },
  {
   "cell_type": "markdown",
   "metadata": {},
   "source": [
    "### Fully-Connected Layer\n",
    "Implement the `fully_conn` function to apply a fully connected layer to `x_tensor` with the shape (*Batch Size*, *num_outputs*). Shortcut option: you can use classes from the [TensorFlow Layers](https://www.tensorflow.org/api_docs/python/tf/layers) or [TensorFlow Layers (contrib)](https://www.tensorflow.org/api_guides/python/contrib.layers) packages for this layer. For more of a challenge, only use other TensorFlow packages."
   ]
  },
  {
   "cell_type": "code",
   "execution_count": 207,
   "metadata": {
    "collapsed": true
   },
   "outputs": [],
   "source": [
    "def _variable_with_weight_decay(name, shape, stddev, wd):\n",
    "    \n",
    "    \"\"\"Helper to create an initialized Variable with weight decay.\n",
    "    Note that the Variable is initialized with a truncated normal distribution.\n",
    "    A weight decay is added only if one is specified.\n",
    "    Args:\n",
    "    name: name of the variable\n",
    "    shape: list of ints\n",
    "    stddev: standard deviation of a truncated Gaussian\n",
    "    wd: add L2Loss weight decay multiplied by this float. If None, weight\n",
    "        decay is not added for this Variable.\n",
    "    Returns:\n",
    "    Variable Tensor\n",
    "    \"\"\"\n",
    "    dtype = tf.float32\n",
    "    with tf.variable_scope('') as scope:\n",
    "        try:\n",
    "            var = tf.get_variable(name, shape, \n",
    "                                  initializer=tf.truncated_normal_initializer(stddev=stddev, dtype=dtype))\n",
    "        except ValueError:\n",
    "            scope.reuse_variables()\n",
    "            var = tf.get_variable(name, shape, \n",
    "                                  initializer=tf.truncated_normal_initializer(stddev=stddev, dtype=dtype))\n",
    "            \n",
    "    if wd is not None:\n",
    "        weight_decay = tf.multiply(tf.nn.l2_loss(var), wd, name='weight_loss')\n",
    "        tf.add_to_collection('losses', weight_decay)\n",
    "    \n",
    "    return var"
   ]
  },
  {
   "cell_type": "code",
   "execution_count": 208,
   "metadata": {},
   "outputs": [
    {
     "name": "stdout",
     "output_type": "stream",
     "text": [
      "Tests Passed\n"
     ]
    }
   ],
   "source": [
    "def fully_conn(x_tensor, num_outputs, ver=1):\n",
    "    \"\"\"\n",
    "    Apply a fully connected layer to x_tensor using weight and bias\n",
    "    : x_tensor: A 2-D tensor where the first dimension is batch size.\n",
    "    : num_outputs: The number of output that the new tensor should be.\n",
    "    : return: A 2-D tensor where the second dimension is num_outputs.\n",
    "    \"\"\"\n",
    "    # TODO: Implement Function\n",
    "    fc = tf.reshape(x_tensor, [-1, np.prod(x_tensor.get_shape().as_list()[1:])])\n",
    "    if ver==1:\n",
    "        \n",
    "        with tf.variable_scope('') as scope:\n",
    "            try:\n",
    "                w = tf.get_variable(\"w\", shape=[np.prod(x_tensor.get_shape().as_list()[1:]), num_outputs],\n",
    "                             initializer=tf.contrib.layers.xavier_initializer())\n",
    "            except ValueError:\n",
    "                scope.reuse_variables()\n",
    "                w = tf.get_variable(\"w\", shape=[np.prod(x_tensor.get_shape().as_list()[1:]), num_outputs],\n",
    "                             initializer=tf.contrib.layers.xavier_initializer())\n",
    "\n",
    "        #w = tf.Variable(tf.truncated_normal([np.prod(x_tensor.get_shape().as_list()[1:]), num_outputs], mean=0.0, stddev=0.1, dtype=tf.float32))\n",
    "        b = tf.Variable(tf.truncated_normal([num_outputs],mean=0.0, stddev=0.1, dtype=tf.float32))\n",
    "        z = tf.add(tf.matmul(fc, w), b)\n",
    "        \n",
    "        batch_mean, batch_var = tf.nn.moments(z,[0])\n",
    "        scale = tf.Variable(tf.ones([num_outputs]))\n",
    "        beta = tf.Variable(tf.zeros([num_outputs]))\n",
    "        BN = tf.nn.batch_normalization(z ,batch_mean,batch_var,beta,scale,1e-3)\n",
    "        out = tf.nn.relu(BN)\n",
    "        \n",
    "    elif ver==2:\n",
    "        weights = _variable_with_weight_decay('weights', shape=[np.prod(x_tensor.get_shape().as_list()[1:]), num_outputs],\n",
    "                                          stddev=0.04, wd=0.004)\n",
    "        #with tf.variable_scope('') as scope:\n",
    "        #    try:\n",
    "        #         b = tf.get_variable('b', [num_outputs], initializer=tf.constant_initializer(0.1))\n",
    "        #    except ValueError:\n",
    "        #        scope.reuse_variables()\n",
    "        #        b = tf.get_variable('biases', [num_outputs], initializer=tf.constant_initializer(0.1))\n",
    "        b = tf.Variable(tf.truncated_normal([num_outputs],mean=0.0, stddev=0.1, dtype=tf.float32))\n",
    "        z = tf.nn.relu(tf.matmul(fc, weights) + b)\n",
    "        batch_mean, batch_var = tf.nn.moments(z,[0])\n",
    "        scale = tf.Variable(tf.ones([num_outputs]))\n",
    "        beta = tf.Variable(tf.zeros([num_outputs]))\n",
    "        BN = tf.nn.batch_normalization(z ,batch_mean,batch_var,beta,scale,1e-3)\n",
    "        out = tf.nn.relu(BN)\n",
    "    \n",
    "    return out\n",
    "\n",
    "\n",
    "\"\"\"\n",
    "DON'T MODIFY ANYTHING IN THIS CELL THAT IS BELOW THIS LINE\n",
    "\"\"\"\n",
    "tests.test_fully_conn(fully_conn)"
   ]
  },
  {
   "cell_type": "markdown",
   "metadata": {},
   "source": [
    "### Output Layer\n",
    "Implement the `output` function to apply a fully connected layer to `x_tensor` with the shape (*Batch Size*, *num_outputs*). Shortcut option: you can use classes from the [TensorFlow Layers](https://www.tensorflow.org/api_docs/python/tf/layers) or [TensorFlow Layers (contrib)](https://www.tensorflow.org/api_guides/python/contrib.layers) packages for this layer. For more of a challenge, only use other TensorFlow packages.\n",
    "\n",
    "**Note:** Activation, softmax, or cross entropy should **not** be applied to this."
   ]
  },
  {
   "cell_type": "code",
   "execution_count": 209,
   "metadata": {},
   "outputs": [
    {
     "name": "stdout",
     "output_type": "stream",
     "text": [
      "Tests Passed\n"
     ]
    }
   ],
   "source": [
    "def output(x_tensor, num_outputs):\n",
    "    \"\"\"\n",
    "    Apply a output layer to x_tensor using weight and bias\n",
    "    : x_tensor: A 2-D tensor where the first dimension is batch size.\n",
    "    : num_outputs: The number of output that the new tensor should be.\n",
    "    : return: A 2-D tensor where the second dimension is num_outputs.\n",
    "    \"\"\"\n",
    "    # TODO: Implement Function\n",
    "    with tf.variable_scope('') as scope:\n",
    "        try:\n",
    "            wo = tf.get_variable(\"wo\", shape=[np.prod(x_tensor.get_shape().as_list()[1:]), num_outputs],\n",
    "                         initializer=tf.contrib.layers.xavier_initializer())\n",
    "        except ValueError:\n",
    "            scope.reuse_variables()\n",
    "            wo = tf.get_variable(\"wo\", shape=[np.prod(x_tensor.get_shape().as_list()[1:]), num_outputs],\n",
    "                         initializer=tf.contrib.layers.xavier_initializer())\n",
    "    \n",
    "    # wo = tf.Variable(tf.random_normal([x_tensor.get_shape().as_list()[1], num_outputs]))\n",
    "    b = tf.Variable(tf.truncated_normal([num_outputs],mean=0.0, stddev=0.1, dtype=tf.float32))\n",
    "    return tf.add(tf.matmul(x_tensor, wo), b)\n",
    "\n",
    "\n",
    "\"\"\"\n",
    "DON'T MODIFY ANYTHING IN THIS CELL THAT IS BELOW THIS LINE\n",
    "\"\"\"\n",
    "tests.test_output(output)"
   ]
  },
  {
   "cell_type": "markdown",
   "metadata": {},
   "source": [
    "### Create Convolutional Model\n",
    "Implement the function `conv_net` to create a convolutional neural network model. The function takes in a batch of images, `x`, and outputs logits.  Use the layers you created above to create this model:\n",
    "\n",
    "* Apply 1, 2, or 3 Convolution and Max Pool layers\n",
    "* Apply a Flatten Layer\n",
    "* Apply 1, 2, or 3 Fully Connected Layers\n",
    "* Apply an Output Layer\n",
    "* Return the output\n",
    "* Apply [TensorFlow's Dropout](https://www.tensorflow.org/api_docs/python/tf/nn/dropout) to one or more layers in the model using `keep_prob`. "
   ]
  },
  {
   "cell_type": "code",
   "execution_count": 210,
   "metadata": {},
   "outputs": [
    {
     "name": "stdout",
     "output_type": "stream",
     "text": [
      "Neural Network Built!\n"
     ]
    }
   ],
   "source": [
    "def conv_net(x, keep_prob):\n",
    "    \"\"\"\n",
    "    Create a convolutional neural network model\n",
    "    : x: Placeholder tensor that holds image data.\n",
    "    : keep_prob: Placeholder tensor that hold dropout keep probability.\n",
    "    : return: Tensor that represents logits\n",
    "    \"\"\"\n",
    "    \n",
    "    # TODO: Apply 1, 2, or 3 Convolution and Max Pool layers\n",
    "    #    Play around with different number of outputs, kernel size and stride\n",
    "    # Function Definition from Above:\n",
    "    #    conv2d_maxpool(x_tensor, conv_num_outputs, conv_ksize, conv_strides, pool_ksize, pool_strides)\n",
    "    with tf.variable_scope(\"conv1\"):\n",
    "        conv1 = conv2d_maxpool(x, 40, (3, 3), (1, 1), (2, 2), (2, 2), maxpool=False)\n",
    "    with tf.variable_scope(\"conv2\"):\n",
    "        conv2 = conv2d_maxpool(conv1, 80, (3, 3), (1, 1), (2, 2), (2, 2), maxpool=True)\n",
    "    # norm1 = tf.nn.lrn(conv2, 4, bias=1.0, alpha=0.001 / 9.0, beta=0.75,name='norm1')\n",
    "    conv2 = tf.nn.dropout(conv2, 0.5)\n",
    "    with tf.variable_scope(\"conv3\"):\n",
    "        conv3 = conv2d_maxpool(conv2, 160, (3, 3), (1, 1), (2, 2), (2, 2), maxpool=False)\n",
    "    with tf.variable_scope(\"conv4\"):\n",
    "        conv4 = conv2d_maxpool(conv3, 320, (3, 3), (1, 2), (2, 2), (2, 2), maxpool=True)\n",
    "    # adding dropout to convolution layer makes learning very slow\n",
    "    #norm2 = tf.nn.lrn(conv4, 4, bias=1.0, alpha=0.001 / 9.0, beta=0.75,name='norm2')\n",
    "    conv4 = tf.nn.dropout(conv4, 0.5)\n",
    "    \n",
    "    # TODO: Apply a Flatten Layer\n",
    "    # Function Definition from Above:\n",
    "    #   flatten(x_tensor)\n",
    "    f = flatten(conv4)\n",
    "\n",
    "    # TODO: Apply 1, 2, or 3 Fully Connected Layers\n",
    "    #    Play around with different number of outputs\n",
    "    # Function Definition from Above:\n",
    "    #   fully_conn(x_tensor, num_outputs)\n",
    "    with tf.variable_scope(\"fc1\"):\n",
    "        fc1 = fully_conn(f, 512, ver=1)\n",
    "        fc1 = tf.nn.dropout(fc1, keep_prob)\n",
    "    with tf.variable_scope(\"fc2\"):\n",
    "        fc2 = fully_conn(fc1, 256, ver=1)\n",
    "        fc2 = tf.nn.dropout(fc2, keep_prob)\n",
    "    #with tf.variable_scope(\"fc1\"):\n",
    "    #    fc1 = fully_conn(f, 384, ver=2)\n",
    "    #with tf.variable_scope(\"fc2\"):\n",
    "    #    fc2 = fully_conn(fc1, 192, ver=2)\n",
    "    \n",
    "    \n",
    "    # TODO: Apply an Output Layer\n",
    "    #    Set this to the number of classes\n",
    "    # Function Definition from Above:\n",
    "    #   output(x_tensor, num_outputs)\n",
    "    with tf.variable_scope(\"out\"):\n",
    "        o = output(fc2, 10)\n",
    "    \n",
    "    # TODO: return output\n",
    "    return o\n",
    "\n",
    "\n",
    "\"\"\"\n",
    "DON'T MODIFY ANYTHING IN THIS CELL THAT IS BELOW THIS LINE\n",
    "\"\"\"\n",
    "\n",
    "##############################\n",
    "## Build the Neural Network ##\n",
    "##############################\n",
    "\n",
    "# Remove previous weights, bias, inputs, etc..\n",
    "tf.reset_default_graph()\n",
    "\n",
    "# Inputs\n",
    "x = neural_net_image_input((32, 32, 3))\n",
    "y = neural_net_label_input(10)\n",
    "keep_prob = neural_net_keep_prob_input()\n",
    "\n",
    "# Model\n",
    "logits = conv_net(x, keep_prob)\n",
    "\n",
    "# Name logits Tensor, so that is can be loaded from disk after training\n",
    "logits = tf.identity(logits, name='logits')\n",
    "\n",
    "# Loss and Optimizer\n",
    "cost = tf.reduce_mean(tf.nn.softmax_cross_entropy_with_logits(logits=logits, labels=y))\n",
    "optimizer = tf.train.AdamOptimizer(epsilon=1e-04).minimize(cost)\n",
    "\n",
    "# Accuracy\n",
    "correct_pred = tf.equal(tf.argmax(logits, 1), tf.argmax(y, 1))\n",
    "accuracy = tf.reduce_mean(tf.cast(correct_pred, tf.float32), name='accuracy')\n",
    "\n",
    "tests.test_conv_net(conv_net)"
   ]
  },
  {
   "cell_type": "markdown",
   "metadata": {},
   "source": [
    "## Train the Neural Network\n",
    "### Single Optimization\n",
    "Implement the function `train_neural_network` to do a single optimization.  The optimization should use `optimizer` to optimize in `session` with a `feed_dict` of the following:\n",
    "* `x` for image input\n",
    "* `y` for labels\n",
    "* `keep_prob` for keep probability for dropout\n",
    "\n",
    "This function will be called for each batch, so `tf.global_variables_initializer()` has already been called.\n",
    "\n",
    "Note: Nothing needs to be returned. This function is only optimizing the neural network."
   ]
  },
  {
   "cell_type": "code",
   "execution_count": 211,
   "metadata": {},
   "outputs": [
    {
     "name": "stdout",
     "output_type": "stream",
     "text": [
      "Tests Passed\n"
     ]
    }
   ],
   "source": [
    "def train_neural_network(session, optimizer, keep_probability, feature_batch, label_batch):\n",
    "    \"\"\"\n",
    "    Optimize the session on a batch of images and labels\n",
    "    : session: Current TensorFlow session\n",
    "    : optimizer: TensorFlow optimizer function\n",
    "    : keep_probability: keep probability\n",
    "    : feature_batch: Batch of Numpy image data\n",
    "    : label_batch: Batch of Numpy label data\n",
    "    \"\"\"\n",
    "    # TODO: Implement Function\n",
    "    session.run(optimizer, feed_dict={\n",
    "                x: feature_batch,\n",
    "                y: label_batch,\n",
    "                keep_prob: keep_probability})\n",
    "\n",
    "\n",
    "\"\"\"\n",
    "DON'T MODIFY ANYTHING IN THIS CELL THAT IS BELOW THIS LINE\n",
    "\"\"\"\n",
    "tests.test_train_nn(train_neural_network)"
   ]
  },
  {
   "cell_type": "markdown",
   "metadata": {},
   "source": [
    "### Show Stats\n",
    "Implement the function `print_stats` to print loss and validation accuracy.  Use the global variables `valid_features` and `valid_labels` to calculate validation accuracy.  Use a keep probability of `1.0` to calculate the loss and validation accuracy."
   ]
  },
  {
   "cell_type": "code",
   "execution_count": 212,
   "metadata": {
    "collapsed": true
   },
   "outputs": [],
   "source": [
    "def print_stats(session, feature_batch, label_batch, cost, accuracy):\n",
    "    \"\"\"\n",
    "    Print information about loss and validation accuracy\n",
    "    : session: Current TensorFlow session\n",
    "    : feature_batch: Batch of Numpy image data\n",
    "    : label_batch: Batch of Numpy label data\n",
    "    : cost: TensorFlow cost function\n",
    "    : accuracy: TensorFlow accuracy function\n",
    "    \"\"\"\n",
    "    # TODO: Implement Function\n",
    "    loss = session.run(cost, feed_dict={\n",
    "                x: feature_batch,\n",
    "                y: label_batch,\n",
    "                keep_prob: 1.})\n",
    "    valid_acc = session.run(accuracy, feed_dict={\n",
    "                x: valid_features,\n",
    "                y: valid_labels,\n",
    "                keep_prob: 1.})\n",
    "\n",
    "    print('Loss: {:>10.4f} Validation Accuracy: {:.6f}'.format(loss, valid_acc))"
   ]
  },
  {
   "cell_type": "markdown",
   "metadata": {},
   "source": [
    "### Hyperparameters\n",
    "Tune the following parameters:\n",
    "* Set `epochs` to the number of iterations until the network stops learning or start overfitting\n",
    "* Set `batch_size` to the highest number that your machine has memory for.  Most people set them to common sizes of memory:\n",
    " * 64\n",
    " * 128\n",
    " * 256\n",
    " * ...\n",
    "* Set `keep_probability` to the probability of keeping a node using dropout"
   ]
  },
  {
   "cell_type": "code",
   "execution_count": 213,
   "metadata": {
    "collapsed": true
   },
   "outputs": [],
   "source": [
    "# TODO: Tune Parameters\n",
    "epochs = 50\n",
    "batch_size = 128\n",
    "# smaller keep_probability makes learning slower\n",
    "keep_probability = 0.5"
   ]
  },
  {
   "cell_type": "markdown",
   "metadata": {},
   "source": [
    "### Train on a Single CIFAR-10 Batch\n",
    "Instead of training the neural network on all the CIFAR-10 batches of data, let's use a single batch. This should save time while you iterate on the model to get a better accuracy.  Once the final validation accuracy is 50% or greater, run the model on all the data in the next section."
   ]
  },
  {
   "cell_type": "code",
   "execution_count": 214,
   "metadata": {},
   "outputs": [
    {
     "name": "stdout",
     "output_type": "stream",
     "text": [
      "Checking the Training on a Single Batch...\n",
      "Epoch  1, CIFAR-10 Batch 1:  Loss:     2.2875 Validation Accuracy: 0.253800\n",
      "Epoch  2, CIFAR-10 Batch 1:  Loss:     2.1938 Validation Accuracy: 0.275000\n",
      "Epoch  3, CIFAR-10 Batch 1:  Loss:     1.9816 Validation Accuracy: 0.330600\n",
      "Epoch  4, CIFAR-10 Batch 1:  Loss:     1.8908 Validation Accuracy: 0.387600\n",
      "Epoch  5, CIFAR-10 Batch 1:  Loss:     1.6317 Validation Accuracy: 0.422800\n",
      "Epoch  6, CIFAR-10 Batch 1:  Loss:     1.5176 Validation Accuracy: 0.470800\n",
      "Epoch  7, CIFAR-10 Batch 1:  Loss:     1.3963 Validation Accuracy: 0.499400\n",
      "Epoch  8, CIFAR-10 Batch 1:  Loss:     1.3804 Validation Accuracy: 0.526400\n",
      "Epoch  9, CIFAR-10 Batch 1:  Loss:     1.1094 Validation Accuracy: 0.541600\n",
      "Epoch 10, CIFAR-10 Batch 1:  Loss:     1.0940 Validation Accuracy: 0.558400\n",
      "Epoch 11, CIFAR-10 Batch 1:  Loss:     0.9056 Validation Accuracy: 0.573600\n",
      "Epoch 12, CIFAR-10 Batch 1:  Loss:     0.8361 Validation Accuracy: 0.578000\n",
      "Epoch 13, CIFAR-10 Batch 1:  Loss:     0.7730 Validation Accuracy: 0.592600\n",
      "Epoch 14, CIFAR-10 Batch 1:  Loss:     0.7091 Validation Accuracy: 0.605600\n",
      "Epoch 15, CIFAR-10 Batch 1:  Loss:     0.6278 Validation Accuracy: 0.617400\n",
      "Epoch 16, CIFAR-10 Batch 1:  Loss:     0.6311 Validation Accuracy: 0.609000\n",
      "Epoch 17, CIFAR-10 Batch 1:  Loss:     0.5421 Validation Accuracy: 0.619000\n",
      "Epoch 18, CIFAR-10 Batch 1:  Loss:     0.4150 Validation Accuracy: 0.635200\n",
      "Epoch 19, CIFAR-10 Batch 1:  Loss:     0.3610 Validation Accuracy: 0.632200\n",
      "Epoch 20, CIFAR-10 Batch 1:  Loss:     0.3669 Validation Accuracy: 0.653000\n",
      "Epoch 21, CIFAR-10 Batch 1:  Loss:     0.2187 Validation Accuracy: 0.641800\n",
      "Epoch 22, CIFAR-10 Batch 1:  Loss:     0.2538 Validation Accuracy: 0.640600\n",
      "Epoch 23, CIFAR-10 Batch 1:  Loss:     0.2474 Validation Accuracy: 0.648400\n",
      "Epoch 24, CIFAR-10 Batch 1:  Loss:     0.1836 Validation Accuracy: 0.655800\n",
      "Epoch 25, CIFAR-10 Batch 1:  Loss:     0.1808 Validation Accuracy: 0.664400\n",
      "Epoch 26, CIFAR-10 Batch 1:  Loss:     0.1468 Validation Accuracy: 0.652400\n",
      "Epoch 27, CIFAR-10 Batch 1:  Loss:     0.1430 Validation Accuracy: 0.657000\n",
      "Epoch 28, CIFAR-10 Batch 1:  Loss:     0.1274 Validation Accuracy: 0.659400\n",
      "Epoch 29, CIFAR-10 Batch 1:  Loss:     0.0832 Validation Accuracy: 0.665600\n",
      "Epoch 30, CIFAR-10 Batch 1:  Loss:     0.0779 Validation Accuracy: 0.667400\n",
      "Epoch 31, CIFAR-10 Batch 1:  Loss:     0.0803 Validation Accuracy: 0.670000\n",
      "Epoch 32, CIFAR-10 Batch 1:  Loss:     0.0555 Validation Accuracy: 0.656600\n",
      "Epoch 33, CIFAR-10 Batch 1:  Loss:     0.0917 Validation Accuracy: 0.668600\n",
      "Epoch 34, CIFAR-10 Batch 1:  Loss:     0.0560 Validation Accuracy: 0.665400\n",
      "Epoch 35, CIFAR-10 Batch 1:  Loss:     0.0441 Validation Accuracy: 0.664200\n",
      "Epoch 36, CIFAR-10 Batch 1:  Loss:     0.0348 Validation Accuracy: 0.670000\n",
      "Epoch 37, CIFAR-10 Batch 1:  Loss:     0.0715 Validation Accuracy: 0.667600\n",
      "Epoch 38, CIFAR-10 Batch 1:  Loss:     0.0456 Validation Accuracy: 0.661600\n",
      "Epoch 39, CIFAR-10 Batch 1:  Loss:     0.0299 Validation Accuracy: 0.665600\n",
      "Epoch 40, CIFAR-10 Batch 1:  Loss:     0.0546 Validation Accuracy: 0.665600\n",
      "Epoch 41, CIFAR-10 Batch 1:  Loss:     0.0206 Validation Accuracy: 0.667600\n",
      "Epoch 42, CIFAR-10 Batch 1:  Loss:     0.0953 Validation Accuracy: 0.668600\n",
      "Epoch 43, CIFAR-10 Batch 1:  Loss:     0.0344 Validation Accuracy: 0.671000\n",
      "Epoch 44, CIFAR-10 Batch 1:  Loss:     0.0773 Validation Accuracy: 0.661200\n",
      "Epoch 45, CIFAR-10 Batch 1:  Loss:     0.0119 Validation Accuracy: 0.667600\n",
      "Epoch 46, CIFAR-10 Batch 1:  Loss:     0.0196 Validation Accuracy: 0.669600\n",
      "Epoch 47, CIFAR-10 Batch 1:  Loss:     0.0389 Validation Accuracy: 0.674200\n",
      "Epoch 48, CIFAR-10 Batch 1:  Loss:     0.0180 Validation Accuracy: 0.669200\n",
      "Epoch 49, CIFAR-10 Batch 1:  Loss:     0.0070 Validation Accuracy: 0.677400\n",
      "Epoch 50, CIFAR-10 Batch 1:  Loss:     0.0078 Validation Accuracy: 0.669200\n"
     ]
    }
   ],
   "source": [
    "\"\"\"\n",
    "DON'T MODIFY ANYTHING IN THIS CELL\n",
    "\"\"\"\n",
    "print('Checking the Training on a Single Batch...')\n",
    "with tf.Session() as sess:\n",
    "    # Initializing the variables\n",
    "    sess.run(tf.global_variables_initializer())\n",
    "    \n",
    "    # Training cycle\n",
    "    for epoch in range(epochs):\n",
    "        batch_i = 1\n",
    "        for batch_features, batch_labels in helper.load_preprocess_training_batch(batch_i, batch_size):\n",
    "            train_neural_network(sess, optimizer, keep_probability, batch_features, batch_labels)\n",
    "        print('Epoch {:>2}, CIFAR-10 Batch {}:  '.format(epoch + 1, batch_i), end='')\n",
    "        print_stats(sess, batch_features, batch_labels, cost, accuracy)"
   ]
  },
  {
   "cell_type": "markdown",
   "metadata": {},
   "source": [
    "### Fully Train the Model\n",
    "Now that you got a good accuracy with a single CIFAR-10 batch, try it with all five batches."
   ]
  },
  {
   "cell_type": "code",
   "execution_count": 215,
   "metadata": {},
   "outputs": [
    {
     "name": "stdout",
     "output_type": "stream",
     "text": [
      "Training...\n",
      "Epoch  1, CIFAR-10 Batch 1:  Loss:     2.2500 Validation Accuracy: 0.251200\n",
      "Epoch  1, CIFAR-10 Batch 2:  Loss:     2.1369 Validation Accuracy: 0.295200\n",
      "Epoch  1, CIFAR-10 Batch 3:  Loss:     1.6191 Validation Accuracy: 0.337800\n",
      "Epoch  1, CIFAR-10 Batch 4:  Loss:     1.6382 Validation Accuracy: 0.401800\n",
      "Epoch  1, CIFAR-10 Batch 5:  Loss:     1.4864 Validation Accuracy: 0.443200\n",
      "Epoch  2, CIFAR-10 Batch 1:  Loss:     1.5037 Validation Accuracy: 0.492800\n",
      "Epoch  2, CIFAR-10 Batch 2:  Loss:     1.4079 Validation Accuracy: 0.513800\n",
      "Epoch  2, CIFAR-10 Batch 3:  Loss:     1.1798 Validation Accuracy: 0.538400\n",
      "Epoch  2, CIFAR-10 Batch 4:  Loss:     1.2035 Validation Accuracy: 0.555600\n",
      "Epoch  2, CIFAR-10 Batch 5:  Loss:     1.1726 Validation Accuracy: 0.581200\n",
      "Epoch  3, CIFAR-10 Batch 1:  Loss:     0.9876 Validation Accuracy: 0.594200\n",
      "Epoch  3, CIFAR-10 Batch 2:  Loss:     1.1077 Validation Accuracy: 0.608200\n",
      "Epoch  3, CIFAR-10 Batch 3:  Loss:     0.8342 Validation Accuracy: 0.620600\n",
      "Epoch  3, CIFAR-10 Batch 4:  Loss:     0.9863 Validation Accuracy: 0.628800\n",
      "Epoch  3, CIFAR-10 Batch 5:  Loss:     0.9976 Validation Accuracy: 0.624200\n",
      "Epoch  4, CIFAR-10 Batch 1:  Loss:     1.0249 Validation Accuracy: 0.653600\n",
      "Epoch  4, CIFAR-10 Batch 2:  Loss:     1.0363 Validation Accuracy: 0.651800\n",
      "Epoch  4, CIFAR-10 Batch 3:  Loss:     0.6966 Validation Accuracy: 0.651200\n",
      "Epoch  4, CIFAR-10 Batch 4:  Loss:     0.7372 Validation Accuracy: 0.660000\n",
      "Epoch  4, CIFAR-10 Batch 5:  Loss:     0.7920 Validation Accuracy: 0.677200\n",
      "Epoch  5, CIFAR-10 Batch 1:  Loss:     0.7603 Validation Accuracy: 0.673800\n",
      "Epoch  5, CIFAR-10 Batch 2:  Loss:     0.8883 Validation Accuracy: 0.687200\n",
      "Epoch  5, CIFAR-10 Batch 3:  Loss:     0.5627 Validation Accuracy: 0.686200\n",
      "Epoch  5, CIFAR-10 Batch 4:  Loss:     0.7432 Validation Accuracy: 0.695600\n",
      "Epoch  5, CIFAR-10 Batch 5:  Loss:     0.6512 Validation Accuracy: 0.689600\n",
      "Epoch  6, CIFAR-10 Batch 1:  Loss:     0.5813 Validation Accuracy: 0.703800\n",
      "Epoch  6, CIFAR-10 Batch 2:  Loss:     0.7055 Validation Accuracy: 0.713800\n",
      "Epoch  6, CIFAR-10 Batch 3:  Loss:     0.4274 Validation Accuracy: 0.723400\n",
      "Epoch  6, CIFAR-10 Batch 4:  Loss:     0.6355 Validation Accuracy: 0.707800\n",
      "Epoch  6, CIFAR-10 Batch 5:  Loss:     0.6087 Validation Accuracy: 0.727000\n",
      "Epoch  7, CIFAR-10 Batch 1:  Loss:     0.4895 Validation Accuracy: 0.726200\n",
      "Epoch  7, CIFAR-10 Batch 2:  Loss:     0.6154 Validation Accuracy: 0.737600\n",
      "Epoch  7, CIFAR-10 Batch 3:  Loss:     0.4438 Validation Accuracy: 0.729200\n",
      "Epoch  7, CIFAR-10 Batch 4:  Loss:     0.4803 Validation Accuracy: 0.733000\n",
      "Epoch  7, CIFAR-10 Batch 5:  Loss:     0.2996 Validation Accuracy: 0.732400\n",
      "Epoch  8, CIFAR-10 Batch 1:  Loss:     0.5024 Validation Accuracy: 0.731600\n",
      "Epoch  8, CIFAR-10 Batch 2:  Loss:     0.5461 Validation Accuracy: 0.751200\n",
      "Epoch  8, CIFAR-10 Batch 3:  Loss:     0.3406 Validation Accuracy: 0.751800\n",
      "Epoch  8, CIFAR-10 Batch 4:  Loss:     0.4364 Validation Accuracy: 0.751200\n",
      "Epoch  8, CIFAR-10 Batch 5:  Loss:     0.3687 Validation Accuracy: 0.746200\n",
      "Epoch  9, CIFAR-10 Batch 1:  Loss:     0.3702 Validation Accuracy: 0.753200\n",
      "Epoch  9, CIFAR-10 Batch 2:  Loss:     0.4693 Validation Accuracy: 0.758000\n",
      "Epoch  9, CIFAR-10 Batch 3:  Loss:     0.3282 Validation Accuracy: 0.753000\n",
      "Epoch  9, CIFAR-10 Batch 4:  Loss:     0.3269 Validation Accuracy: 0.754800\n",
      "Epoch  9, CIFAR-10 Batch 5:  Loss:     0.3922 Validation Accuracy: 0.765600\n",
      "Epoch 10, CIFAR-10 Batch 1:  Loss:     0.4139 Validation Accuracy: 0.761800\n",
      "Epoch 10, CIFAR-10 Batch 2:  Loss:     0.2877 Validation Accuracy: 0.753600\n",
      "Epoch 10, CIFAR-10 Batch 3:  Loss:     0.4044 Validation Accuracy: 0.764800\n",
      "Epoch 10, CIFAR-10 Batch 4:  Loss:     0.4134 Validation Accuracy: 0.769000\n",
      "Epoch 10, CIFAR-10 Batch 5:  Loss:     0.3140 Validation Accuracy: 0.757400\n",
      "Epoch 11, CIFAR-10 Batch 1:  Loss:     0.3978 Validation Accuracy: 0.768000\n",
      "Epoch 11, CIFAR-10 Batch 2:  Loss:     0.3466 Validation Accuracy: 0.766200\n",
      "Epoch 11, CIFAR-10 Batch 3:  Loss:     0.2902 Validation Accuracy: 0.767600\n",
      "Epoch 11, CIFAR-10 Batch 4:  Loss:     0.3012 Validation Accuracy: 0.767000\n",
      "Epoch 11, CIFAR-10 Batch 5:  Loss:     0.1993 Validation Accuracy: 0.769200\n",
      "Epoch 12, CIFAR-10 Batch 1:  Loss:     0.2676 Validation Accuracy: 0.770200\n",
      "Epoch 12, CIFAR-10 Batch 2:  Loss:     0.2326 Validation Accuracy: 0.779000\n",
      "Epoch 12, CIFAR-10 Batch 3:  Loss:     0.2492 Validation Accuracy: 0.780400\n",
      "Epoch 12, CIFAR-10 Batch 4:  Loss:     0.2514 Validation Accuracy: 0.778600\n",
      "Epoch 12, CIFAR-10 Batch 5:  Loss:     0.1362 Validation Accuracy: 0.776200\n",
      "Epoch 13, CIFAR-10 Batch 1:  Loss:     0.2763 Validation Accuracy: 0.770400\n",
      "Epoch 13, CIFAR-10 Batch 2:  Loss:     0.2669 Validation Accuracy: 0.785400\n",
      "Epoch 13, CIFAR-10 Batch 3:  Loss:     0.2610 Validation Accuracy: 0.771800\n",
      "Epoch 13, CIFAR-10 Batch 4:  Loss:     0.2286 Validation Accuracy: 0.779000\n",
      "Epoch 13, CIFAR-10 Batch 5:  Loss:     0.1700 Validation Accuracy: 0.775800\n",
      "Epoch 14, CIFAR-10 Batch 1:  Loss:     0.2499 Validation Accuracy: 0.766200\n",
      "Epoch 14, CIFAR-10 Batch 2:  Loss:     0.3635 Validation Accuracy: 0.781600\n",
      "Epoch 14, CIFAR-10 Batch 3:  Loss:     0.1726 Validation Accuracy: 0.777200\n",
      "Epoch 14, CIFAR-10 Batch 4:  Loss:     0.3144 Validation Accuracy: 0.770000\n",
      "Epoch 14, CIFAR-10 Batch 5:  Loss:     0.1796 Validation Accuracy: 0.784600\n",
      "Epoch 15, CIFAR-10 Batch 1:  Loss:     0.1550 Validation Accuracy: 0.783600\n",
      "Epoch 15, CIFAR-10 Batch 2:  Loss:     0.2476 Validation Accuracy: 0.789400\n",
      "Epoch 15, CIFAR-10 Batch 3:  Loss:     0.1440 Validation Accuracy: 0.786400\n",
      "Epoch 15, CIFAR-10 Batch 4:  Loss:     0.2986 Validation Accuracy: 0.778000\n",
      "Epoch 15, CIFAR-10 Batch 5:  Loss:     0.1201 Validation Accuracy: 0.785600\n",
      "Epoch 16, CIFAR-10 Batch 1:  Loss:     0.1572 Validation Accuracy: 0.785600\n",
      "Epoch 16, CIFAR-10 Batch 2:  Loss:     0.1348 Validation Accuracy: 0.790800\n",
      "Epoch 16, CIFAR-10 Batch 3:  Loss:     0.1819 Validation Accuracy: 0.789400\n",
      "Epoch 16, CIFAR-10 Batch 4:  Loss:     0.1772 Validation Accuracy: 0.793200\n",
      "Epoch 16, CIFAR-10 Batch 5:  Loss:     0.2443 Validation Accuracy: 0.788600\n",
      "Epoch 17, CIFAR-10 Batch 1:  Loss:     0.1210 Validation Accuracy: 0.796800\n",
      "Epoch 17, CIFAR-10 Batch 2:  Loss:     0.1679 Validation Accuracy: 0.785800\n",
      "Epoch 17, CIFAR-10 Batch 3:  Loss:     0.1663 Validation Accuracy: 0.788000\n",
      "Epoch 17, CIFAR-10 Batch 4:  Loss:     0.1202 Validation Accuracy: 0.796000\n",
      "Epoch 17, CIFAR-10 Batch 5:  Loss:     0.0840 Validation Accuracy: 0.797800\n",
      "Epoch 18, CIFAR-10 Batch 1:  Loss:     0.0749 Validation Accuracy: 0.790400\n",
      "Epoch 18, CIFAR-10 Batch 2:  Loss:     0.1308 Validation Accuracy: 0.791600\n",
      "Epoch 18, CIFAR-10 Batch 3:  Loss:     0.1244 Validation Accuracy: 0.794200\n",
      "Epoch 18, CIFAR-10 Batch 4:  Loss:     0.1478 Validation Accuracy: 0.794200\n",
      "Epoch 18, CIFAR-10 Batch 5:  Loss:     0.0725 Validation Accuracy: 0.793000\n",
      "Epoch 19, CIFAR-10 Batch 1:  Loss:     0.1251 Validation Accuracy: 0.787800\n",
      "Epoch 19, CIFAR-10 Batch 2:  Loss:     0.1608 Validation Accuracy: 0.792000\n",
      "Epoch 19, CIFAR-10 Batch 3:  Loss:     0.1079 Validation Accuracy: 0.804400\n",
      "Epoch 19, CIFAR-10 Batch 4:  Loss:     0.1075 Validation Accuracy: 0.793800\n",
      "Epoch 19, CIFAR-10 Batch 5:  Loss:     0.1109 Validation Accuracy: 0.801200\n",
      "Epoch 20, CIFAR-10 Batch 1:  Loss:     0.1182 Validation Accuracy: 0.793600\n",
      "Epoch 20, CIFAR-10 Batch 2:  Loss:     0.1206 Validation Accuracy: 0.799400\n",
      "Epoch 20, CIFAR-10 Batch 3:  Loss:     0.1509 Validation Accuracy: 0.795600\n",
      "Epoch 20, CIFAR-10 Batch 4:  Loss:     0.1084 Validation Accuracy: 0.792800\n",
      "Epoch 20, CIFAR-10 Batch 5:  Loss:     0.0458 Validation Accuracy: 0.795200\n",
      "Epoch 21, CIFAR-10 Batch 1:  Loss:     0.0917 Validation Accuracy: 0.793000\n",
      "Epoch 21, CIFAR-10 Batch 2:  Loss:     0.0813 Validation Accuracy: 0.798400\n",
      "Epoch 21, CIFAR-10 Batch 3:  Loss:     0.1066 Validation Accuracy: 0.794800\n",
      "Epoch 21, CIFAR-10 Batch 4:  Loss:     0.1180 Validation Accuracy: 0.799200\n",
      "Epoch 21, CIFAR-10 Batch 5:  Loss:     0.0821 Validation Accuracy: 0.805800\n",
      "Epoch 22, CIFAR-10 Batch 1:  Loss:     0.1712 Validation Accuracy: 0.794600\n",
      "Epoch 22, CIFAR-10 Batch 2:  Loss:     0.0775 Validation Accuracy: 0.798200\n",
      "Epoch 22, CIFAR-10 Batch 3:  Loss:     0.0705 Validation Accuracy: 0.803600\n"
     ]
    },
    {
     "name": "stdout",
     "output_type": "stream",
     "text": [
      "Epoch 22, CIFAR-10 Batch 4:  Loss:     0.0771 Validation Accuracy: 0.796200\n",
      "Epoch 22, CIFAR-10 Batch 5:  Loss:     0.0426 Validation Accuracy: 0.798200\n",
      "Epoch 23, CIFAR-10 Batch 1:  Loss:     0.0668 Validation Accuracy: 0.794400\n",
      "Epoch 23, CIFAR-10 Batch 2:  Loss:     0.0998 Validation Accuracy: 0.803600\n",
      "Epoch 23, CIFAR-10 Batch 3:  Loss:     0.0652 Validation Accuracy: 0.802600\n",
      "Epoch 23, CIFAR-10 Batch 4:  Loss:     0.1281 Validation Accuracy: 0.798600\n",
      "Epoch 23, CIFAR-10 Batch 5:  Loss:     0.0603 Validation Accuracy: 0.796800\n",
      "Epoch 24, CIFAR-10 Batch 1:  Loss:     0.0990 Validation Accuracy: 0.807600\n",
      "Epoch 24, CIFAR-10 Batch 2:  Loss:     0.0599 Validation Accuracy: 0.800200\n",
      "Epoch 24, CIFAR-10 Batch 3:  Loss:     0.0637 Validation Accuracy: 0.800600\n",
      "Epoch 24, CIFAR-10 Batch 4:  Loss:     0.0912 Validation Accuracy: 0.802600\n",
      "Epoch 24, CIFAR-10 Batch 5:  Loss:     0.0542 Validation Accuracy: 0.803200\n",
      "Epoch 25, CIFAR-10 Batch 1:  Loss:     0.0984 Validation Accuracy: 0.800800\n",
      "Epoch 25, CIFAR-10 Batch 2:  Loss:     0.0576 Validation Accuracy: 0.803400\n",
      "Epoch 25, CIFAR-10 Batch 3:  Loss:     0.0417 Validation Accuracy: 0.804000\n",
      "Epoch 25, CIFAR-10 Batch 4:  Loss:     0.0830 Validation Accuracy: 0.799200\n",
      "Epoch 25, CIFAR-10 Batch 5:  Loss:     0.0274 Validation Accuracy: 0.808600\n",
      "Epoch 26, CIFAR-10 Batch 1:  Loss:     0.1524 Validation Accuracy: 0.794000\n",
      "Epoch 26, CIFAR-10 Batch 2:  Loss:     0.1078 Validation Accuracy: 0.802600\n",
      "Epoch 26, CIFAR-10 Batch 3:  Loss:     0.0888 Validation Accuracy: 0.800600\n",
      "Epoch 26, CIFAR-10 Batch 4:  Loss:     0.0456 Validation Accuracy: 0.795800\n",
      "Epoch 26, CIFAR-10 Batch 5:  Loss:     0.0714 Validation Accuracy: 0.806600\n",
      "Epoch 27, CIFAR-10 Batch 1:  Loss:     0.0903 Validation Accuracy: 0.800200\n",
      "Epoch 27, CIFAR-10 Batch 2:  Loss:     0.0342 Validation Accuracy: 0.804200\n",
      "Epoch 27, CIFAR-10 Batch 3:  Loss:     0.0315 Validation Accuracy: 0.806400\n",
      "Epoch 27, CIFAR-10 Batch 4:  Loss:     0.0598 Validation Accuracy: 0.796400\n",
      "Epoch 27, CIFAR-10 Batch 5:  Loss:     0.0179 Validation Accuracy: 0.796800\n",
      "Epoch 28, CIFAR-10 Batch 1:  Loss:     0.1105 Validation Accuracy: 0.806800\n",
      "Epoch 28, CIFAR-10 Batch 2:  Loss:     0.0737 Validation Accuracy: 0.807400\n",
      "Epoch 28, CIFAR-10 Batch 3:  Loss:     0.0329 Validation Accuracy: 0.808000\n",
      "Epoch 28, CIFAR-10 Batch 4:  Loss:     0.0750 Validation Accuracy: 0.797600\n",
      "Epoch 28, CIFAR-10 Batch 5:  Loss:     0.0184 Validation Accuracy: 0.806600\n",
      "Epoch 29, CIFAR-10 Batch 1:  Loss:     0.0504 Validation Accuracy: 0.804200\n",
      "Epoch 29, CIFAR-10 Batch 2:  Loss:     0.0267 Validation Accuracy: 0.809800\n",
      "Epoch 29, CIFAR-10 Batch 3:  Loss:     0.0714 Validation Accuracy: 0.804000\n",
      "Epoch 29, CIFAR-10 Batch 4:  Loss:     0.0510 Validation Accuracy: 0.794800\n",
      "Epoch 29, CIFAR-10 Batch 5:  Loss:     0.0277 Validation Accuracy: 0.807000\n",
      "Epoch 30, CIFAR-10 Batch 1:  Loss:     0.0436 Validation Accuracy: 0.803800\n",
      "Epoch 30, CIFAR-10 Batch 2:  Loss:     0.0286 Validation Accuracy: 0.803800\n",
      "Epoch 30, CIFAR-10 Batch 3:  Loss:     0.0482 Validation Accuracy: 0.812000\n",
      "Epoch 30, CIFAR-10 Batch 4:  Loss:     0.0600 Validation Accuracy: 0.798800\n",
      "Epoch 30, CIFAR-10 Batch 5:  Loss:     0.0288 Validation Accuracy: 0.800200\n",
      "Epoch 31, CIFAR-10 Batch 1:  Loss:     0.0451 Validation Accuracy: 0.798200\n",
      "Epoch 31, CIFAR-10 Batch 2:  Loss:     0.0736 Validation Accuracy: 0.808600\n",
      "Epoch 31, CIFAR-10 Batch 3:  Loss:     0.0397 Validation Accuracy: 0.807400\n",
      "Epoch 31, CIFAR-10 Batch 4:  Loss:     0.0595 Validation Accuracy: 0.805800\n",
      "Epoch 31, CIFAR-10 Batch 5:  Loss:     0.0068 Validation Accuracy: 0.807200\n",
      "Epoch 32, CIFAR-10 Batch 1:  Loss:     0.0427 Validation Accuracy: 0.806600\n",
      "Epoch 32, CIFAR-10 Batch 2:  Loss:     0.0255 Validation Accuracy: 0.803400\n",
      "Epoch 32, CIFAR-10 Batch 3:  Loss:     0.0495 Validation Accuracy: 0.814200\n",
      "Epoch 32, CIFAR-10 Batch 4:  Loss:     0.1030 Validation Accuracy: 0.804600\n",
      "Epoch 32, CIFAR-10 Batch 5:  Loss:     0.0115 Validation Accuracy: 0.808200\n",
      "Epoch 33, CIFAR-10 Batch 1:  Loss:     0.0401 Validation Accuracy: 0.807800\n",
      "Epoch 33, CIFAR-10 Batch 2:  Loss:     0.0274 Validation Accuracy: 0.813600\n",
      "Epoch 33, CIFAR-10 Batch 3:  Loss:     0.0187 Validation Accuracy: 0.810000\n",
      "Epoch 33, CIFAR-10 Batch 4:  Loss:     0.0614 Validation Accuracy: 0.810600\n",
      "Epoch 33, CIFAR-10 Batch 5:  Loss:     0.0629 Validation Accuracy: 0.815200\n",
      "Epoch 34, CIFAR-10 Batch 1:  Loss:     0.0300 Validation Accuracy: 0.811400\n",
      "Epoch 34, CIFAR-10 Batch 2:  Loss:     0.0789 Validation Accuracy: 0.802600\n",
      "Epoch 34, CIFAR-10 Batch 3:  Loss:     0.0644 Validation Accuracy: 0.808200\n",
      "Epoch 34, CIFAR-10 Batch 4:  Loss:     0.1076 Validation Accuracy: 0.816200\n",
      "Epoch 34, CIFAR-10 Batch 5:  Loss:     0.0120 Validation Accuracy: 0.809400\n",
      "Epoch 35, CIFAR-10 Batch 1:  Loss:     0.0332 Validation Accuracy: 0.803800\n",
      "Epoch 35, CIFAR-10 Batch 2:  Loss:     0.0191 Validation Accuracy: 0.810200\n",
      "Epoch 35, CIFAR-10 Batch 3:  Loss:     0.0464 Validation Accuracy: 0.809400\n",
      "Epoch 35, CIFAR-10 Batch 4:  Loss:     0.0413 Validation Accuracy: 0.800600\n",
      "Epoch 35, CIFAR-10 Batch 5:  Loss:     0.0062 Validation Accuracy: 0.815600\n",
      "Epoch 36, CIFAR-10 Batch 1:  Loss:     0.0437 Validation Accuracy: 0.806800\n",
      "Epoch 36, CIFAR-10 Batch 2:  Loss:     0.0218 Validation Accuracy: 0.801800\n",
      "Epoch 36, CIFAR-10 Batch 3:  Loss:     0.0180 Validation Accuracy: 0.808400\n",
      "Epoch 36, CIFAR-10 Batch 4:  Loss:     0.0207 Validation Accuracy: 0.809200\n",
      "Epoch 36, CIFAR-10 Batch 5:  Loss:     0.0118 Validation Accuracy: 0.805800\n",
      "Epoch 37, CIFAR-10 Batch 1:  Loss:     0.0210 Validation Accuracy: 0.812800\n",
      "Epoch 37, CIFAR-10 Batch 2:  Loss:     0.0160 Validation Accuracy: 0.815800\n",
      "Epoch 37, CIFAR-10 Batch 3:  Loss:     0.0620 Validation Accuracy: 0.817000\n",
      "Epoch 37, CIFAR-10 Batch 4:  Loss:     0.0176 Validation Accuracy: 0.813000\n",
      "Epoch 37, CIFAR-10 Batch 5:  Loss:     0.0177 Validation Accuracy: 0.810000\n",
      "Epoch 38, CIFAR-10 Batch 1:  Loss:     0.0772 Validation Accuracy: 0.817000\n",
      "Epoch 38, CIFAR-10 Batch 2:  Loss:     0.0818 Validation Accuracy: 0.809200\n",
      "Epoch 38, CIFAR-10 Batch 3:  Loss:     0.0233 Validation Accuracy: 0.812200\n",
      "Epoch 38, CIFAR-10 Batch 4:  Loss:     0.1012 Validation Accuracy: 0.810600\n",
      "Epoch 38, CIFAR-10 Batch 5:  Loss:     0.0039 Validation Accuracy: 0.814000\n",
      "Epoch 39, CIFAR-10 Batch 1:  Loss:     0.0237 Validation Accuracy: 0.812600\n",
      "Epoch 39, CIFAR-10 Batch 2:  Loss:     0.0486 Validation Accuracy: 0.812200\n",
      "Epoch 39, CIFAR-10 Batch 3:  Loss:     0.0308 Validation Accuracy: 0.810600\n",
      "Epoch 39, CIFAR-10 Batch 4:  Loss:     0.0368 Validation Accuracy: 0.815600\n",
      "Epoch 39, CIFAR-10 Batch 5:  Loss:     0.0281 Validation Accuracy: 0.814800\n",
      "Epoch 40, CIFAR-10 Batch 1:  Loss:     0.0571 Validation Accuracy: 0.810000\n",
      "Epoch 40, CIFAR-10 Batch 2:  Loss:     0.0912 Validation Accuracy: 0.811400\n",
      "Epoch 40, CIFAR-10 Batch 3:  Loss:     0.0624 Validation Accuracy: 0.809600\n",
      "Epoch 40, CIFAR-10 Batch 4:  Loss:     0.0577 Validation Accuracy: 0.818600\n",
      "Epoch 40, CIFAR-10 Batch 5:  Loss:     0.0948 Validation Accuracy: 0.803800\n",
      "Epoch 41, CIFAR-10 Batch 1:  Loss:     0.0288 Validation Accuracy: 0.811600\n",
      "Epoch 41, CIFAR-10 Batch 2:  Loss:     0.0158 Validation Accuracy: 0.807200\n",
      "Epoch 41, CIFAR-10 Batch 3:  Loss:     0.0086 Validation Accuracy: 0.810800\n",
      "Epoch 41, CIFAR-10 Batch 4:  Loss:     0.0221 Validation Accuracy: 0.813800\n",
      "Epoch 41, CIFAR-10 Batch 5:  Loss:     0.0099 Validation Accuracy: 0.809200\n",
      "Epoch 42, CIFAR-10 Batch 1:  Loss:     0.0251 Validation Accuracy: 0.814400\n",
      "Epoch 42, CIFAR-10 Batch 2:  Loss:     0.0158 Validation Accuracy: 0.811000\n",
      "Epoch 42, CIFAR-10 Batch 3:  Loss:     0.0289 Validation Accuracy: 0.813400\n",
      "Epoch 42, CIFAR-10 Batch 4:  Loss:     0.0181 Validation Accuracy: 0.812000\n",
      "Epoch 42, CIFAR-10 Batch 5:  Loss:     0.0147 Validation Accuracy: 0.818000\n",
      "Epoch 43, CIFAR-10 Batch 1:  Loss:     0.0075 Validation Accuracy: 0.812400\n",
      "Epoch 43, CIFAR-10 Batch 2:  Loss:     0.0207 Validation Accuracy: 0.817600\n",
      "Epoch 43, CIFAR-10 Batch 3:  Loss:     0.0220 Validation Accuracy: 0.822600\n",
      "Epoch 43, CIFAR-10 Batch 4:  Loss:     0.0210 Validation Accuracy: 0.809600\n",
      "Epoch 43, CIFAR-10 Batch 5:  Loss:     0.0048 Validation Accuracy: 0.810600\n",
      "Epoch 44, CIFAR-10 Batch 1:  Loss:     0.0169 Validation Accuracy: 0.815200\n"
     ]
    },
    {
     "name": "stdout",
     "output_type": "stream",
     "text": [
      "Epoch 44, CIFAR-10 Batch 2:  Loss:     0.0767 Validation Accuracy: 0.815200\n",
      "Epoch 44, CIFAR-10 Batch 3:  Loss:     0.0156 Validation Accuracy: 0.816600\n",
      "Epoch 44, CIFAR-10 Batch 4:  Loss:     0.0099 Validation Accuracy: 0.817600\n",
      "Epoch 44, CIFAR-10 Batch 5:  Loss:     0.0126 Validation Accuracy: 0.810400\n",
      "Epoch 45, CIFAR-10 Batch 1:  Loss:     0.0053 Validation Accuracy: 0.820400\n",
      "Epoch 45, CIFAR-10 Batch 2:  Loss:     0.0217 Validation Accuracy: 0.817400\n",
      "Epoch 45, CIFAR-10 Batch 3:  Loss:     0.0679 Validation Accuracy: 0.819800\n",
      "Epoch 45, CIFAR-10 Batch 4:  Loss:     0.0117 Validation Accuracy: 0.814200\n",
      "Epoch 45, CIFAR-10 Batch 5:  Loss:     0.0041 Validation Accuracy: 0.812600\n",
      "Epoch 46, CIFAR-10 Batch 1:  Loss:     0.0282 Validation Accuracy: 0.811600\n",
      "Epoch 46, CIFAR-10 Batch 2:  Loss:     0.0609 Validation Accuracy: 0.817600\n",
      "Epoch 46, CIFAR-10 Batch 3:  Loss:     0.0095 Validation Accuracy: 0.820600\n",
      "Epoch 46, CIFAR-10 Batch 4:  Loss:     0.0061 Validation Accuracy: 0.816200\n",
      "Epoch 46, CIFAR-10 Batch 5:  Loss:     0.0054 Validation Accuracy: 0.812600\n",
      "Epoch 47, CIFAR-10 Batch 1:  Loss:     0.0180 Validation Accuracy: 0.811000\n",
      "Epoch 47, CIFAR-10 Batch 2:  Loss:     0.0138 Validation Accuracy: 0.817200\n",
      "Epoch 47, CIFAR-10 Batch 3:  Loss:     0.0046 Validation Accuracy: 0.820200\n",
      "Epoch 47, CIFAR-10 Batch 4:  Loss:     0.0485 Validation Accuracy: 0.820600\n",
      "Epoch 47, CIFAR-10 Batch 5:  Loss:     0.0406 Validation Accuracy: 0.812600\n",
      "Epoch 48, CIFAR-10 Batch 1:  Loss:     0.0103 Validation Accuracy: 0.819000\n",
      "Epoch 48, CIFAR-10 Batch 2:  Loss:     0.0047 Validation Accuracy: 0.814200\n",
      "Epoch 48, CIFAR-10 Batch 3:  Loss:     0.0243 Validation Accuracy: 0.815200\n",
      "Epoch 48, CIFAR-10 Batch 4:  Loss:     0.0155 Validation Accuracy: 0.813600\n",
      "Epoch 48, CIFAR-10 Batch 5:  Loss:     0.0090 Validation Accuracy: 0.821200\n",
      "Epoch 49, CIFAR-10 Batch 1:  Loss:     0.0066 Validation Accuracy: 0.818200\n",
      "Epoch 49, CIFAR-10 Batch 2:  Loss:     0.0064 Validation Accuracy: 0.819400\n",
      "Epoch 49, CIFAR-10 Batch 3:  Loss:     0.0183 Validation Accuracy: 0.816000\n",
      "Epoch 49, CIFAR-10 Batch 4:  Loss:     0.0074 Validation Accuracy: 0.813200\n",
      "Epoch 49, CIFAR-10 Batch 5:  Loss:     0.0047 Validation Accuracy: 0.813200\n",
      "Epoch 50, CIFAR-10 Batch 1:  Loss:     0.0348 Validation Accuracy: 0.817200\n",
      "Epoch 50, CIFAR-10 Batch 2:  Loss:     0.0120 Validation Accuracy: 0.816400\n",
      "Epoch 50, CIFAR-10 Batch 3:  Loss:     0.0068 Validation Accuracy: 0.822400\n",
      "Epoch 50, CIFAR-10 Batch 4:  Loss:     0.0247 Validation Accuracy: 0.819400\n",
      "Epoch 50, CIFAR-10 Batch 5:  Loss:     0.0031 Validation Accuracy: 0.814600\n"
     ]
    }
   ],
   "source": [
    "\"\"\"\n",
    "DON'T MODIFY ANYTHING IN THIS CELL\n",
    "\"\"\"\n",
    "save_model_path = './image_classification'\n",
    "\n",
    "print('Training...')\n",
    "with tf.Session() as sess:\n",
    "    # Initializing the variables\n",
    "    sess.run(tf.global_variables_initializer())\n",
    "    \n",
    "    # Training cycle\n",
    "    for epoch in range(epochs):\n",
    "        # Loop over all batches\n",
    "        n_batches = 5\n",
    "        for batch_i in range(1, n_batches + 1):\n",
    "            for batch_features, batch_labels in helper.load_preprocess_training_batch(batch_i, batch_size):\n",
    "                train_neural_network(sess, optimizer, keep_probability, batch_features, batch_labels)\n",
    "            print('Epoch {:>2}, CIFAR-10 Batch {}:  '.format(epoch + 1, batch_i), end='')\n",
    "            print_stats(sess, batch_features, batch_labels, cost, accuracy)\n",
    "            \n",
    "    # Save Model\n",
    "    saver = tf.train.Saver()\n",
    "    save_path = saver.save(sess, save_model_path)"
   ]
  },
  {
   "cell_type": "markdown",
   "metadata": {},
   "source": [
    "# Checkpoint\n",
    "The model has been saved to disk.\n",
    "## Test Model\n",
    "Test your model against the test dataset.  This will be your final accuracy. You should have an accuracy greater than 50%. If you don't, keep tweaking the model architecture and parameters."
   ]
  },
  {
   "cell_type": "code",
   "execution_count": 216,
   "metadata": {},
   "outputs": [
    {
     "name": "stdout",
     "output_type": "stream",
     "text": [
      "INFO:tensorflow:Restoring parameters from ./image_classification\n",
      "Testing Accuracy: 0.8083465189873418\n",
      "\n"
     ]
    },
    {
     "data": {
      "image/png": "[encoded data removed]",
      "text/plain": [
       "<matplotlib.figure.Figure at 0x7f1ec19949b0>"
      ]
     },
     "metadata": {
      "image/png": {
       "height": 319,
       "width": 355
      }
     },
     "output_type": "display_data"
    }
   ],
   "source": [
    "\"\"\"\n",
    "DON'T MODIFY ANYTHING IN THIS CELL\n",
    "\"\"\"\n",
    "%matplotlib inline\n",
    "%config InlineBackend.figure_format = 'retina'\n",
    "\n",
    "import tensorflow as tf\n",
    "import pickle\n",
    "import helper\n",
    "import random\n",
    "\n",
    "# Set batch size if not already set\n",
    "try:\n",
    "    if batch_size:\n",
    "        pass\n",
    "except NameError:\n",
    "    batch_size = 64\n",
    "\n",
    "save_model_path = './image_classification'\n",
    "n_samples = 4\n",
    "top_n_predictions = 3\n",
    "\n",
    "def test_model():\n",
    "    \"\"\"\n",
    "    Test the saved model against the test dataset\n",
    "    \"\"\"\n",
    "\n",
    "    test_features, test_labels = pickle.load(open('preprocess_test.p', mode='rb'))\n",
    "    loaded_graph = tf.Graph()\n",
    "\n",
    "    with tf.Session(graph=loaded_graph) as sess:\n",
    "        # Load model\n",
    "        loader = tf.train.import_meta_graph(save_model_path + '.meta')\n",
    "        loader.restore(sess, save_model_path)\n",
    "\n",
    "        # Get Tensors from loaded model\n",
    "        loaded_x = loaded_graph.get_tensor_by_name('x:0')\n",
    "        loaded_y = loaded_graph.get_tensor_by_name('y:0')\n",
    "        loaded_keep_prob = loaded_graph.get_tensor_by_name('keep_prob:0')\n",
    "        loaded_logits = loaded_graph.get_tensor_by_name('logits:0')\n",
    "        loaded_acc = loaded_graph.get_tensor_by_name('accuracy:0')\n",
    "        \n",
    "        # Get accuracy in batches for memory limitations\n",
    "        test_batch_acc_total = 0\n",
    "        test_batch_count = 0\n",
    "        \n",
    "        for test_feature_batch, test_label_batch in helper.batch_features_labels(test_features, test_labels, batch_size):\n",
    "            test_batch_acc_total += sess.run(\n",
    "                loaded_acc,\n",
    "                feed_dict={loaded_x: test_feature_batch, loaded_y: test_label_batch, loaded_keep_prob: 1.0})\n",
    "            test_batch_count += 1\n",
    "\n",
    "        print('Testing Accuracy: {}\\n'.format(test_batch_acc_total/test_batch_count))\n",
    "\n",
    "        # Print Random Samples\n",
    "        random_test_features, random_test_labels = tuple(zip(*random.sample(list(zip(test_features, test_labels)), n_samples)))\n",
    "        random_test_predictions = sess.run(\n",
    "            tf.nn.top_k(tf.nn.softmax(loaded_logits), top_n_predictions),\n",
    "            feed_dict={loaded_x: random_test_features, loaded_y: random_test_labels, loaded_keep_prob: 1.0})\n",
    "        helper.display_image_predictions(random_test_features, random_test_labels, random_test_predictions)\n",
    "\n",
    "\n",
    "test_model()"
   ]
  },
  {
   "cell_type": "markdown",
   "metadata": {},
   "source": [
    "## Why 50-80% Accuracy?\n",
    "You might be wondering why you can't get an accuracy any higher. First things first, 50% isn't bad for a simple CNN.  Pure guessing would get you 10% accuracy. However, you might notice people are getting scores [well above 80%](http://rodrigob.github.io/are_we_there_yet/build/classification_datasets_results.html#43494641522d3130).  That's because we haven't taught you all there is to know about neural networks. We still need to cover a few more techniques.\n",
    "## Submitting This Project\n",
    "When submitting this project, make sure to run all the cells before saving the notebook.  Save the notebook file as \"dlnd_image_classification.ipynb\" and save it as a HTML file under \"File\" -> \"Download as\".  Include the \"helper.py\" and \"problem_unittests.py\" files in your submission."
   ]
  }
 ],
 "metadata": {
  "anaconda-cloud": {},
  "kernelspec": {
   "display_name": "Python [conda env:tf_1_2]",
   "language": "python",
   "name": "conda-env-tf_1_2-py"
  },
  "language_info": {
   "codemirror_mode": {
    "name": "ipython",
    "version": 3
   },
   "file_extension": ".py",
   "mimetype": "text/x-python",
   "name": "python",
   "nbconvert_exporter": "python",
   "pygments_lexer": "ipython3",
   "version": "3.5.3"
  }
 },
 "nbformat": 4,
 "nbformat_minor": 1
}
